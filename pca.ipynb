{
 "cells": [
  {
   "cell_type": "markdown",
   "metadata": {},
   "source": [
    "# PCA of Coffee Bean Spectra\n",
    "- Originally completed for a graded assignment in August 2021\n",
    "- Modified to remove assignment specific details"
   ]
  },
  {
   "cell_type": "code",
   "execution_count": 1,
   "metadata": {},
   "outputs": [],
   "source": [
    "import pandas as pd\n",
    "import numpy as np\n",
    "import plotly.express as px"
   ]
  },
  {
   "cell_type": "code",
   "execution_count": 2,
   "metadata": {},
   "outputs": [],
   "source": [
    "# importing data\n",
    "eigenvalues_df = pd.read_csv(r'coffee_eigenvalues.csv', header = None, names = ['eigenvalues'])\n",
    "eigenvectors_df = pd.read_csv(r'coffee_eigenvectors.csv', header = None)\n",
    "data_df = pd.read_csv(r'DS19hH2_dk0_FTIR_Spectra_instant_coffee.csv', header = None)"
   ]
  },
  {
   "cell_type": "code",
   "execution_count": 3,
   "metadata": {},
   "outputs": [],
   "source": [
    "# finding explained variance ratios\n",
    "eigenvalues_series = pd.Series(eigenvalues_df['eigenvalues'].values.tolist())\n",
    "eigenvalues_cumsum_array = np.array(eigenvalues_series.cumsum())\n",
    "explained_variance_ratio = np.empty(56)\n",
    "for i in range(56):\n",
    "    explained_variance_ratio[i] = eigenvalues_cumsum_array[i]/eigenvalues_cumsum_array[55]"
   ]
  },
  {
   "cell_type": "code",
   "execution_count": 7,
   "metadata": {},
   "outputs": [
    {
     "data": {
      "application/vnd.plotly.v1+json": {
       "config": {
        "plotlyServerURL": "https://plot.ly"
       },
       "data": [
        {
         "hovertemplate": "Number of Principal Components=%{x}<br>Explained Variance Ratio=%{y}<extra></extra>",
         "legendgroup": "",
         "line": {
          "color": "#636efa",
          "dash": "solid"
         },
         "marker": {
          "symbol": "circle"
         },
         "mode": "lines",
         "name": "",
         "orientation": "v",
         "showlegend": false,
         "type": "scatter",
         "x": [
          1,
          2,
          3,
          4,
          5,
          6,
          7,
          8,
          9,
          10,
          11,
          12,
          13,
          14,
          15,
          16,
          17,
          18,
          19,
          20,
          21,
          22,
          23,
          24,
          25,
          26,
          27,
          28,
          29,
          30,
          31,
          32,
          33,
          34,
          35,
          36,
          37,
          38,
          39,
          40,
          41,
          42,
          43,
          44,
          45,
          46,
          47,
          48,
          49,
          50,
          51,
          52,
          53,
          54,
          55,
          56
         ],
         "xaxis": "x",
         "y": [
          0.9289109632971188,
          0.961151910540324,
          0.9813605240719053,
          0.9865267409701725,
          0.9895843548756226,
          0.9915366749085976,
          0.9928008489599965,
          0.9935716684609592,
          0.9942438028795835,
          0.9948352725413853,
          0.9952616539620449,
          0.9956171556410703,
          0.9959331044155018,
          0.996239604919757,
          0.9965080366005944,
          0.9967604850629822,
          0.9969892236571752,
          0.9972003467592893,
          0.9973936365479851,
          0.9975807780443917,
          0.9977610195030098,
          0.9979210122036543,
          0.9980726879494808,
          0.9982141661443713,
          0.998344666698324,
          0.9984687194941576,
          0.9985822919102154,
          0.9986877460910649,
          0.9987890003560752,
          0.9988859219174143,
          0.9989728508092752,
          0.9990559008175962,
          0.999137705824457,
          0.9992165078545218,
          0.9992882222185157,
          0.9993574271697665,
          0.9994217272897264,
          0.9994751751623626,
          0.9995282003322016,
          0.9995772902375881,
          0.9996219436121587,
          0.9996647746200783,
          0.9997059043416668,
          0.9997447612654893,
          0.9997789607562323,
          0.999812676233787,
          0.9998435637310389,
          0.999872301667492,
          0.9998989726119142,
          0.9999200069747439,
          0.9999389108476955,
          0.9999562721327204,
          0.999972835674048,
          0.9999882672222142,
          0.9999999999360496,
          1
         ],
         "yaxis": "y"
        }
       ],
       "layout": {
        "legend": {
         "tracegroupgap": 0
        },
        "template": {
         "data": {
          "bar": [
           {
            "error_x": {
             "color": "#2a3f5f"
            },
            "error_y": {
             "color": "#2a3f5f"
            },
            "marker": {
             "line": {
              "color": "#E5ECF6",
              "width": 0.5
             },
             "pattern": {
              "fillmode": "overlay",
              "size": 10,
              "solidity": 0.2
             }
            },
            "type": "bar"
           }
          ],
          "barpolar": [
           {
            "marker": {
             "line": {
              "color": "#E5ECF6",
              "width": 0.5
             },
             "pattern": {
              "fillmode": "overlay",
              "size": 10,
              "solidity": 0.2
             }
            },
            "type": "barpolar"
           }
          ],
          "carpet": [
           {
            "aaxis": {
             "endlinecolor": "#2a3f5f",
             "gridcolor": "white",
             "linecolor": "white",
             "minorgridcolor": "white",
             "startlinecolor": "#2a3f5f"
            },
            "baxis": {
             "endlinecolor": "#2a3f5f",
             "gridcolor": "white",
             "linecolor": "white",
             "minorgridcolor": "white",
             "startlinecolor": "#2a3f5f"
            },
            "type": "carpet"
           }
          ],
          "choropleth": [
           {
            "colorbar": {
             "outlinewidth": 0,
             "ticks": ""
            },
            "type": "choropleth"
           }
          ],
          "contour": [
           {
            "colorbar": {
             "outlinewidth": 0,
             "ticks": ""
            },
            "colorscale": [
             [
              0,
              "#0d0887"
             ],
             [
              0.1111111111111111,
              "#46039f"
             ],
             [
              0.2222222222222222,
              "#7201a8"
             ],
             [
              0.3333333333333333,
              "#9c179e"
             ],
             [
              0.4444444444444444,
              "#bd3786"
             ],
             [
              0.5555555555555556,
              "#d8576b"
             ],
             [
              0.6666666666666666,
              "#ed7953"
             ],
             [
              0.7777777777777778,
              "#fb9f3a"
             ],
             [
              0.8888888888888888,
              "#fdca26"
             ],
             [
              1,
              "#f0f921"
             ]
            ],
            "type": "contour"
           }
          ],
          "contourcarpet": [
           {
            "colorbar": {
             "outlinewidth": 0,
             "ticks": ""
            },
            "type": "contourcarpet"
           }
          ],
          "heatmap": [
           {
            "colorbar": {
             "outlinewidth": 0,
             "ticks": ""
            },
            "colorscale": [
             [
              0,
              "#0d0887"
             ],
             [
              0.1111111111111111,
              "#46039f"
             ],
             [
              0.2222222222222222,
              "#7201a8"
             ],
             [
              0.3333333333333333,
              "#9c179e"
             ],
             [
              0.4444444444444444,
              "#bd3786"
             ],
             [
              0.5555555555555556,
              "#d8576b"
             ],
             [
              0.6666666666666666,
              "#ed7953"
             ],
             [
              0.7777777777777778,
              "#fb9f3a"
             ],
             [
              0.8888888888888888,
              "#fdca26"
             ],
             [
              1,
              "#f0f921"
             ]
            ],
            "type": "heatmap"
           }
          ],
          "heatmapgl": [
           {
            "colorbar": {
             "outlinewidth": 0,
             "ticks": ""
            },
            "colorscale": [
             [
              0,
              "#0d0887"
             ],
             [
              0.1111111111111111,
              "#46039f"
             ],
             [
              0.2222222222222222,
              "#7201a8"
             ],
             [
              0.3333333333333333,
              "#9c179e"
             ],
             [
              0.4444444444444444,
              "#bd3786"
             ],
             [
              0.5555555555555556,
              "#d8576b"
             ],
             [
              0.6666666666666666,
              "#ed7953"
             ],
             [
              0.7777777777777778,
              "#fb9f3a"
             ],
             [
              0.8888888888888888,
              "#fdca26"
             ],
             [
              1,
              "#f0f921"
             ]
            ],
            "type": "heatmapgl"
           }
          ],
          "histogram": [
           {
            "marker": {
             "pattern": {
              "fillmode": "overlay",
              "size": 10,
              "solidity": 0.2
             }
            },
            "type": "histogram"
           }
          ],
          "histogram2d": [
           {
            "colorbar": {
             "outlinewidth": 0,
             "ticks": ""
            },
            "colorscale": [
             [
              0,
              "#0d0887"
             ],
             [
              0.1111111111111111,
              "#46039f"
             ],
             [
              0.2222222222222222,
              "#7201a8"
             ],
             [
              0.3333333333333333,
              "#9c179e"
             ],
             [
              0.4444444444444444,
              "#bd3786"
             ],
             [
              0.5555555555555556,
              "#d8576b"
             ],
             [
              0.6666666666666666,
              "#ed7953"
             ],
             [
              0.7777777777777778,
              "#fb9f3a"
             ],
             [
              0.8888888888888888,
              "#fdca26"
             ],
             [
              1,
              "#f0f921"
             ]
            ],
            "type": "histogram2d"
           }
          ],
          "histogram2dcontour": [
           {
            "colorbar": {
             "outlinewidth": 0,
             "ticks": ""
            },
            "colorscale": [
             [
              0,
              "#0d0887"
             ],
             [
              0.1111111111111111,
              "#46039f"
             ],
             [
              0.2222222222222222,
              "#7201a8"
             ],
             [
              0.3333333333333333,
              "#9c179e"
             ],
             [
              0.4444444444444444,
              "#bd3786"
             ],
             [
              0.5555555555555556,
              "#d8576b"
             ],
             [
              0.6666666666666666,
              "#ed7953"
             ],
             [
              0.7777777777777778,
              "#fb9f3a"
             ],
             [
              0.8888888888888888,
              "#fdca26"
             ],
             [
              1,
              "#f0f921"
             ]
            ],
            "type": "histogram2dcontour"
           }
          ],
          "mesh3d": [
           {
            "colorbar": {
             "outlinewidth": 0,
             "ticks": ""
            },
            "type": "mesh3d"
           }
          ],
          "parcoords": [
           {
            "line": {
             "colorbar": {
              "outlinewidth": 0,
              "ticks": ""
             }
            },
            "type": "parcoords"
           }
          ],
          "pie": [
           {
            "automargin": true,
            "type": "pie"
           }
          ],
          "scatter": [
           {
            "fillpattern": {
             "fillmode": "overlay",
             "size": 10,
             "solidity": 0.2
            },
            "type": "scatter"
           }
          ],
          "scatter3d": [
           {
            "line": {
             "colorbar": {
              "outlinewidth": 0,
              "ticks": ""
             }
            },
            "marker": {
             "colorbar": {
              "outlinewidth": 0,
              "ticks": ""
             }
            },
            "type": "scatter3d"
           }
          ],
          "scattercarpet": [
           {
            "marker": {
             "colorbar": {
              "outlinewidth": 0,
              "ticks": ""
             }
            },
            "type": "scattercarpet"
           }
          ],
          "scattergeo": [
           {
            "marker": {
             "colorbar": {
              "outlinewidth": 0,
              "ticks": ""
             }
            },
            "type": "scattergeo"
           }
          ],
          "scattergl": [
           {
            "marker": {
             "colorbar": {
              "outlinewidth": 0,
              "ticks": ""
             }
            },
            "type": "scattergl"
           }
          ],
          "scattermapbox": [
           {
            "marker": {
             "colorbar": {
              "outlinewidth": 0,
              "ticks": ""
             }
            },
            "type": "scattermapbox"
           }
          ],
          "scatterpolar": [
           {
            "marker": {
             "colorbar": {
              "outlinewidth": 0,
              "ticks": ""
             }
            },
            "type": "scatterpolar"
           }
          ],
          "scatterpolargl": [
           {
            "marker": {
             "colorbar": {
              "outlinewidth": 0,
              "ticks": ""
             }
            },
            "type": "scatterpolargl"
           }
          ],
          "scatterternary": [
           {
            "marker": {
             "colorbar": {
              "outlinewidth": 0,
              "ticks": ""
             }
            },
            "type": "scatterternary"
           }
          ],
          "surface": [
           {
            "colorbar": {
             "outlinewidth": 0,
             "ticks": ""
            },
            "colorscale": [
             [
              0,
              "#0d0887"
             ],
             [
              0.1111111111111111,
              "#46039f"
             ],
             [
              0.2222222222222222,
              "#7201a8"
             ],
             [
              0.3333333333333333,
              "#9c179e"
             ],
             [
              0.4444444444444444,
              "#bd3786"
             ],
             [
              0.5555555555555556,
              "#d8576b"
             ],
             [
              0.6666666666666666,
              "#ed7953"
             ],
             [
              0.7777777777777778,
              "#fb9f3a"
             ],
             [
              0.8888888888888888,
              "#fdca26"
             ],
             [
              1,
              "#f0f921"
             ]
            ],
            "type": "surface"
           }
          ],
          "table": [
           {
            "cells": {
             "fill": {
              "color": "#EBF0F8"
             },
             "line": {
              "color": "white"
             }
            },
            "header": {
             "fill": {
              "color": "#C8D4E3"
             },
             "line": {
              "color": "white"
             }
            },
            "type": "table"
           }
          ]
         },
         "layout": {
          "annotationdefaults": {
           "arrowcolor": "#2a3f5f",
           "arrowhead": 0,
           "arrowwidth": 1
          },
          "autotypenumbers": "strict",
          "coloraxis": {
           "colorbar": {
            "outlinewidth": 0,
            "ticks": ""
           }
          },
          "colorscale": {
           "diverging": [
            [
             0,
             "#8e0152"
            ],
            [
             0.1,
             "#c51b7d"
            ],
            [
             0.2,
             "#de77ae"
            ],
            [
             0.3,
             "#f1b6da"
            ],
            [
             0.4,
             "#fde0ef"
            ],
            [
             0.5,
             "#f7f7f7"
            ],
            [
             0.6,
             "#e6f5d0"
            ],
            [
             0.7,
             "#b8e186"
            ],
            [
             0.8,
             "#7fbc41"
            ],
            [
             0.9,
             "#4d9221"
            ],
            [
             1,
             "#276419"
            ]
           ],
           "sequential": [
            [
             0,
             "#0d0887"
            ],
            [
             0.1111111111111111,
             "#46039f"
            ],
            [
             0.2222222222222222,
             "#7201a8"
            ],
            [
             0.3333333333333333,
             "#9c179e"
            ],
            [
             0.4444444444444444,
             "#bd3786"
            ],
            [
             0.5555555555555556,
             "#d8576b"
            ],
            [
             0.6666666666666666,
             "#ed7953"
            ],
            [
             0.7777777777777778,
             "#fb9f3a"
            ],
            [
             0.8888888888888888,
             "#fdca26"
            ],
            [
             1,
             "#f0f921"
            ]
           ],
           "sequentialminus": [
            [
             0,
             "#0d0887"
            ],
            [
             0.1111111111111111,
             "#46039f"
            ],
            [
             0.2222222222222222,
             "#7201a8"
            ],
            [
             0.3333333333333333,
             "#9c179e"
            ],
            [
             0.4444444444444444,
             "#bd3786"
            ],
            [
             0.5555555555555556,
             "#d8576b"
            ],
            [
             0.6666666666666666,
             "#ed7953"
            ],
            [
             0.7777777777777778,
             "#fb9f3a"
            ],
            [
             0.8888888888888888,
             "#fdca26"
            ],
            [
             1,
             "#f0f921"
            ]
           ]
          },
          "colorway": [
           "#636efa",
           "#EF553B",
           "#00cc96",
           "#ab63fa",
           "#FFA15A",
           "#19d3f3",
           "#FF6692",
           "#B6E880",
           "#FF97FF",
           "#FECB52"
          ],
          "font": {
           "color": "#2a3f5f"
          },
          "geo": {
           "bgcolor": "white",
           "lakecolor": "white",
           "landcolor": "#E5ECF6",
           "showlakes": true,
           "showland": true,
           "subunitcolor": "white"
          },
          "hoverlabel": {
           "align": "left"
          },
          "hovermode": "closest",
          "mapbox": {
           "style": "light"
          },
          "paper_bgcolor": "white",
          "plot_bgcolor": "#E5ECF6",
          "polar": {
           "angularaxis": {
            "gridcolor": "white",
            "linecolor": "white",
            "ticks": ""
           },
           "bgcolor": "#E5ECF6",
           "radialaxis": {
            "gridcolor": "white",
            "linecolor": "white",
            "ticks": ""
           }
          },
          "scene": {
           "xaxis": {
            "backgroundcolor": "#E5ECF6",
            "gridcolor": "white",
            "gridwidth": 2,
            "linecolor": "white",
            "showbackground": true,
            "ticks": "",
            "zerolinecolor": "white"
           },
           "yaxis": {
            "backgroundcolor": "#E5ECF6",
            "gridcolor": "white",
            "gridwidth": 2,
            "linecolor": "white",
            "showbackground": true,
            "ticks": "",
            "zerolinecolor": "white"
           },
           "zaxis": {
            "backgroundcolor": "#E5ECF6",
            "gridcolor": "white",
            "gridwidth": 2,
            "linecolor": "white",
            "showbackground": true,
            "ticks": "",
            "zerolinecolor": "white"
           }
          },
          "shapedefaults": {
           "line": {
            "color": "#2a3f5f"
           }
          },
          "ternary": {
           "aaxis": {
            "gridcolor": "white",
            "linecolor": "white",
            "ticks": ""
           },
           "baxis": {
            "gridcolor": "white",
            "linecolor": "white",
            "ticks": ""
           },
           "bgcolor": "#E5ECF6",
           "caxis": {
            "gridcolor": "white",
            "linecolor": "white",
            "ticks": ""
           }
          },
          "title": {
           "x": 0.05
          },
          "xaxis": {
           "automargin": true,
           "gridcolor": "white",
           "linecolor": "white",
           "ticks": "",
           "title": {
            "standoff": 15
           },
           "zerolinecolor": "white",
           "zerolinewidth": 2
          },
          "yaxis": {
           "automargin": true,
           "gridcolor": "white",
           "linecolor": "white",
           "ticks": "",
           "title": {
            "standoff": 15
           },
           "zerolinecolor": "white",
           "zerolinewidth": 2
          }
         }
        },
        "title": {
         "text": "Explained Variance Ratios"
        },
        "xaxis": {
         "anchor": "y",
         "domain": [
          0,
          1
         ],
         "title": {
          "text": "Number of Principal Components"
         }
        },
        "yaxis": {
         "anchor": "x",
         "domain": [
          0,
          1
         ],
         "title": {
          "text": "Explained Variance Ratio"
         }
        }
       }
      }
     },
     "metadata": {},
     "output_type": "display_data"
    }
   ],
   "source": [
    "# plotting explained variance ratios\n",
    "fig1 = px.line(\n",
    "    x = range(1, 57),\n",
    "    y = explained_variance_ratio,\n",
    "    labels = {\"x\": \"Number of Principal Components\", \"y\": \"Explained Variance Ratio\"},\n",
    "    title = \"Explained Variance Ratios\"\n",
    ")\n",
    "\n",
    "fig1.show()"
   ]
  },
  {
   "cell_type": "markdown",
   "metadata": {},
   "source": [
    "Six principal components could represent the spectra dataset as the explained variance ratio for six principal components is greater than 0.99 or 99%"
   ]
  },
  {
   "cell_type": "code",
   "execution_count": 5,
   "metadata": {},
   "outputs": [],
   "source": [
    "# projecting data onto principal components\n",
    "data_array = np.array(data_df[1:57])\n",
    "column_means = data_array.mean(axis=0)\n",
    "data_array = data_array - column_means\n",
    "pc_array = np.transpose(np.array(eigenvectors_df.iloc[0:6, 0:286]))\n",
    "projections_array = np.matmul(data_array, pc_array)\n",
    "projections_df = pd.DataFrame(data = projections_array, columns = ['PC1', 'PC2', 'PC3', 'PC4', 'PC5', 'PC6'])\n",
    "projections_df['Coffee Type'] = ['Arabica'] * 29 + ['Robusta'] * 27"
   ]
  },
  {
   "cell_type": "code",
   "execution_count": 6,
   "metadata": {},
   "outputs": [
    {
     "data": {
      "application/vnd.plotly.v1+json": {
       "config": {
        "plotlyServerURL": "https://plot.ly"
       },
       "data": [
        {
         "diagonal": {
          "visible": false
         },
         "dimensions": [
          {
           "axis": {
            "matches": true
           },
           "label": "PC1",
           "values": [
            194.65885130222293,
            -68.20192872974339,
            8.036018445085308,
            60.53409004052869,
            97.0662294864241,
            -14.340755730782284,
            23.540420981584653,
            61.33317498261938,
            21.06695581864045,
            54.904555224190915,
            54.40590502329683,
            7.903487174806152,
            96.14622993414338,
            2.0929460864108944,
            3.3901525350523567,
            -7.999516193842529,
            -8.50603231285031,
            37.77215046824813,
            -27.151701784410413,
            -9.101519350145471,
            -86.57572153297934,
            7.296507757518153,
            -28.059186198976136,
            18.48418955239884,
            17.29923424539332,
            9.916540685808265,
            -93.38158763833584,
            -87.71282473452356,
            -8.090436378902318
           ]
          },
          {
           "axis": {
            "matches": true
           },
           "label": "PC2",
           "values": [
            2.9466431135079083,
            9.424371739508828,
            7.039439033735362,
            3.100984799715895,
            8.137852630714193,
            5.656360458225973,
            -16.150676973563847,
            1.9788089065058507,
            0.021851158676077898,
            -16.421683292448634,
            -10.036301462770755,
            18.83340610302734,
            12.870369880133437,
            -2.2124939955315996,
            -8.019690643458485,
            10.99638354554888,
            -18.34093247310706,
            -12.50427429247605,
            1.6861102561338237,
            -0.3031634724925983,
            4.8555667952552035,
            -20.16695813354108,
            -2.092496876993864,
            -10.086477538479693,
            -12.358942338029125,
            -16.177442685077402,
            0.4970040290485258,
            -7.253428621442844,
            -4.942340785390778
           ]
          },
          {
           "axis": {
            "matches": true
           },
           "label": "PC3",
           "values": [
            3.238411663107925,
            8.091908914023886,
            8.725272948677905,
            4.449118806473492,
            7.083653772257852,
            13.126845256723875,
            4.8376642744880884,
            6.452408253967695,
            5.616212237513816,
            7.678683692595785,
            2.0959401061332468,
            6.944332268966756,
            2.4182138970272327,
            7.991824136139911,
            3.469490460475084,
            8.590242850171293,
            8.23616111864167,
            2.562230268447321,
            9.824788962576156,
            6.236223166198862,
            5.768432969109545,
            4.147677611723181,
            6.282922611438759,
            10.609724816247017,
            7.537139454344148,
            5.435206270942659,
            7.73065569791534,
            11.562272461280662,
            4.26031610652278
           ]
          },
          {
           "axis": {
            "matches": true
           },
           "label": "PC4",
           "values": [
            7.408621384998007,
            -1.7814065958340155,
            -6.8488767998461695,
            4.142216081920527,
            -3.4182977145622573,
            -2.795369225090539,
            0.5916194653208167,
            -1.2074094875092758,
            -1.4090716501220344,
            -5.794178311799371,
            3.9273417422401433,
            3.2857298916262025,
            2.5862720122533744,
            0.521995310826773,
            -0.7424134746993831,
            -2.425077051389755,
            7.678161835431132,
            7.132879821162123,
            -0.7043671976019308,
            0.19900296282379637,
            4.586890197721708,
            3.382690871864081,
            -3.1965512033345673,
            -1.1988241880257005,
            -5.499220587656814,
            -1.8119909842069917,
            3.2349593205841387,
            0.22008030599391404,
            7.8027262609713235
           ]
          },
          {
           "axis": {
            "matches": true
           },
           "label": "PC5",
           "values": [
            -0.12339649390340668,
            -1.160763871127605,
            -1.3248206941367275,
            -0.2981615506938464,
            -0.4925302106976659,
            -0.762640576362823,
            2.610602913215626,
            -6.072359742729397,
            0.6061089613800159,
            2.251905695340529,
            3.797781452829758,
            2.426665632379451,
            0.010296458897732563,
            -0.23341823076953339,
            -0.9513490677405498,
            -8.221078710543203,
            1.5071930758294223,
            2.8796668867060706,
            5.122994350133256,
            0.2767991586358788,
            -1.7203608429410746,
            -7.80289367094356,
            -3.0837794319358554,
            6.813368052127252,
            -2.775935173033802,
            0.8883481488764629,
            -1.8061683512075284,
            -3.494497075853136,
            -2.3107101507251193
           ]
          },
          {
           "axis": {
            "matches": true
           },
           "label": "PC6",
           "values": [
            2.987266819821146,
            -0.905013963786319,
            -2.089057901993109,
            -0.39947654262379917,
            -4.310560616201677,
            3.498243954564232,
            1.8547959030293424,
            3.6933285175652473,
            -1.397593972346387,
            2.3137816159925935,
            -2.417835019606713,
            -0.24572690541729703,
            -4.966932440213675,
            3.9995189452545574,
            -5.0534446919870275,
            1.053291796534329,
            -0.12386759413829795,
            2.6086350707376966,
            -1.6722764905093022,
            -3.6477499982494015,
            -2.401513183658356,
            -0.15096227801588813,
            -1.4056136869425147,
            -2.7269782881782874,
            -1.249364546170106,
            1.1314889364969605,
            0.8017176977389662,
            0.05409705606452553,
            -1.2369322657038386
           ]
          }
         ],
         "hovertemplate": "Coffee Type=Arabica<br>%{xaxis.title.text}=%{x}<br>%{yaxis.title.text}=%{y}<extra></extra>",
         "legendgroup": "Arabica",
         "marker": {
          "color": "#636efa",
          "symbol": "circle"
         },
         "name": "Arabica",
         "showlegend": true,
         "type": "splom"
        },
        {
         "diagonal": {
          "visible": false
         },
         "dimensions": [
          {
           "axis": {
            "matches": true
           },
           "label": "PC1",
           "values": [
            0.08292620982874144,
            -16.711137473376336,
            -56.24662324120578,
            70.35279676621587,
            42.18200064827537,
            -59.892667632077334,
            -25.01700748055277,
            70.2384337276655,
            50.80687846389476,
            -10.949268718122516,
            -37.319035767917825,
            -25.957670124551743,
            70.75445778100786,
            25.18566751615244,
            37.186544774947734,
            7.064398245155742,
            -36.79025550373484,
            2.1782393002222804,
            -62.64290545656334,
            -92.47118184583167,
            -46.827390415093326,
            -55.58570342813648,
            -92.72095219534448,
            -15.265219580443233,
            -40.98005469040762,
            -33.683929328237795,
            -3.6977697106502365
           ]
          },
          {
           "axis": {
            "matches": true
           },
           "label": "PC2",
           "values": [
            -0.31617873930860096,
            -1.2895127112202918,
            8.196124650649976,
            -2.132646057659468,
            -12.96746555653429,
            6.137798587207035,
            -2.6806073475050027,
            32.85914485080418,
            -0.662815453693832,
            2.514266430746969,
            11.781578857282561,
            -4.956105228692378,
            12.719729125309442,
            24.047471042652763,
            -3.518649129082324,
            -2.503047526944591,
            3.972321430958349,
            -6.042240897146888,
            -0.04691014348814493,
            2.563309888221563,
            -1.299564345741782,
            6.277404134118042,
            8.57743485606049,
            -7.2322024550326525,
            5.549215467845616,
            -1.7896041676169405,
            -8.73609842712348
           ]
          },
          {
           "axis": {
            "matches": true
           },
           "label": "PC3",
           "values": [
            -6.223402070098899,
            -11.672412400690057,
            1.7694463332102206,
            -19.47912693018126,
            -11.018658188920025,
            -4.908563467082394,
            -10.35901066789937,
            -5.0205341647054915,
            -6.654989007975325,
            -2.4015204076226135,
            2.333773505424757,
            -7.005740485526302,
            -5.581646827216658,
            2.4779785616303087,
            -13.537558521564682,
            -11.001923729599921,
            -12.541546738009863,
            -9.976291963881083,
            -8.43356204235727,
            -1.1133832891514004,
            -13.70583963679586,
            -2.077779502518471,
            -2.939597145771632,
            -14.500732592633126,
            -2.892200290471548,
            -6.013367339307289,
            -8.525786044416638
           ]
          },
          {
           "axis": {
            "matches": true
           },
           "label": "PC4",
           "values": [
            -1.3483554285546209,
            -2.3109761331304703,
            0.09588240932832015,
            1.8873728782824077,
            0.15975838713965285,
            1.316993604643061,
            -2.585369883659865,
            5.449513582856074,
            -3.828213683228233,
            -12.938375035197472,
            2.5428247224210643,
            -1.9279385701641347,
            -8.311879512386854,
            -2.757327836538705,
            -0.7980260627775122,
            0.9779380972956933,
            6.586121830404332,
            -2.3513679685101385,
            2.778793496250037,
            -1.4886871788536702,
            -0.07883706368786036,
            2.8032998469369215,
            3.9587324847218124,
            2.1155731133972173,
            -0.1718211159623131,
            -1.7313085483945239,
            -5.9124534266893995
           ]
          },
          {
           "axis": {
            "matches": true
           },
           "label": "PC5",
           "values": [
            2.695245669254412,
            -1.2751154103277993,
            5.532183006229619,
            0.7187884863027438,
            0.304374895347034,
            -2.7861912461420495,
            -0.5523136630419003,
            -0.9139874972587907,
            3.6733784575903314,
            3.95093018888291,
            3.91241469025063,
            -3.657110948226003,
            0.7546532436193338,
            -3.376542594753215,
            -0.4003725078480169,
            0.21399131878209354,
            -1.10396276946076,
            -2.9087920485595458,
            -0.6853102616639575,
            5.614901648323862,
            -2.8092117444329032,
            4.422468936356292,
            0.4321155861369199,
            -0.5210082896323287,
            4.998193060345563,
            -0.9355435850093805,
            -1.8550435620716796
           ]
          },
          {
           "axis": {
            "matches": true
           },
           "label": "PC6",
           "values": [
            1.8323687457052755,
            2.908300702351971,
            5.258603747357174,
            -3.847954047481381,
            4.8222346176930415,
            -1.2935322151234994,
            2.7715968623010463,
            1.7953422778133747,
            1.1882042199007916,
            -0.7959084572371706,
            4.895965897108949,
            4.5460927804724305,
            1.2822899884820718,
            0.2131743284078116,
            -0.6600359525660824,
            -2.955878642885108,
            -0.9195741375900024,
            -0.08053260507724991,
            -0.0030754633379048713,
            0.2462088225920125,
            -1.4132360590972892,
            -1.7999113565203912,
            0.28632628879377275,
            -1.2131863053781697,
            -1.360107246057568,
            -1.7930145145880902,
            -1.5060282040975135
           ]
          }
         ],
         "hovertemplate": "Coffee Type=Robusta<br>%{xaxis.title.text}=%{x}<br>%{yaxis.title.text}=%{y}<extra></extra>",
         "legendgroup": "Robusta",
         "marker": {
          "color": "#EF553B",
          "symbol": "circle"
         },
         "name": "Robusta",
         "showlegend": true,
         "type": "splom"
        }
       ],
       "layout": {
        "dragmode": "select",
        "legend": {
         "title": {
          "text": "Coffee Type"
         },
         "tracegroupgap": 0
        },
        "template": {
         "data": {
          "bar": [
           {
            "error_x": {
             "color": "#2a3f5f"
            },
            "error_y": {
             "color": "#2a3f5f"
            },
            "marker": {
             "line": {
              "color": "#E5ECF6",
              "width": 0.5
             },
             "pattern": {
              "fillmode": "overlay",
              "size": 10,
              "solidity": 0.2
             }
            },
            "type": "bar"
           }
          ],
          "barpolar": [
           {
            "marker": {
             "line": {
              "color": "#E5ECF6",
              "width": 0.5
             },
             "pattern": {
              "fillmode": "overlay",
              "size": 10,
              "solidity": 0.2
             }
            },
            "type": "barpolar"
           }
          ],
          "carpet": [
           {
            "aaxis": {
             "endlinecolor": "#2a3f5f",
             "gridcolor": "white",
             "linecolor": "white",
             "minorgridcolor": "white",
             "startlinecolor": "#2a3f5f"
            },
            "baxis": {
             "endlinecolor": "#2a3f5f",
             "gridcolor": "white",
             "linecolor": "white",
             "minorgridcolor": "white",
             "startlinecolor": "#2a3f5f"
            },
            "type": "carpet"
           }
          ],
          "choropleth": [
           {
            "colorbar": {
             "outlinewidth": 0,
             "ticks": ""
            },
            "type": "choropleth"
           }
          ],
          "contour": [
           {
            "colorbar": {
             "outlinewidth": 0,
             "ticks": ""
            },
            "colorscale": [
             [
              0,
              "#0d0887"
             ],
             [
              0.1111111111111111,
              "#46039f"
             ],
             [
              0.2222222222222222,
              "#7201a8"
             ],
             [
              0.3333333333333333,
              "#9c179e"
             ],
             [
              0.4444444444444444,
              "#bd3786"
             ],
             [
              0.5555555555555556,
              "#d8576b"
             ],
             [
              0.6666666666666666,
              "#ed7953"
             ],
             [
              0.7777777777777778,
              "#fb9f3a"
             ],
             [
              0.8888888888888888,
              "#fdca26"
             ],
             [
              1,
              "#f0f921"
             ]
            ],
            "type": "contour"
           }
          ],
          "contourcarpet": [
           {
            "colorbar": {
             "outlinewidth": 0,
             "ticks": ""
            },
            "type": "contourcarpet"
           }
          ],
          "heatmap": [
           {
            "colorbar": {
             "outlinewidth": 0,
             "ticks": ""
            },
            "colorscale": [
             [
              0,
              "#0d0887"
             ],
             [
              0.1111111111111111,
              "#46039f"
             ],
             [
              0.2222222222222222,
              "#7201a8"
             ],
             [
              0.3333333333333333,
              "#9c179e"
             ],
             [
              0.4444444444444444,
              "#bd3786"
             ],
             [
              0.5555555555555556,
              "#d8576b"
             ],
             [
              0.6666666666666666,
              "#ed7953"
             ],
             [
              0.7777777777777778,
              "#fb9f3a"
             ],
             [
              0.8888888888888888,
              "#fdca26"
             ],
             [
              1,
              "#f0f921"
             ]
            ],
            "type": "heatmap"
           }
          ],
          "heatmapgl": [
           {
            "colorbar": {
             "outlinewidth": 0,
             "ticks": ""
            },
            "colorscale": [
             [
              0,
              "#0d0887"
             ],
             [
              0.1111111111111111,
              "#46039f"
             ],
             [
              0.2222222222222222,
              "#7201a8"
             ],
             [
              0.3333333333333333,
              "#9c179e"
             ],
             [
              0.4444444444444444,
              "#bd3786"
             ],
             [
              0.5555555555555556,
              "#d8576b"
             ],
             [
              0.6666666666666666,
              "#ed7953"
             ],
             [
              0.7777777777777778,
              "#fb9f3a"
             ],
             [
              0.8888888888888888,
              "#fdca26"
             ],
             [
              1,
              "#f0f921"
             ]
            ],
            "type": "heatmapgl"
           }
          ],
          "histogram": [
           {
            "marker": {
             "pattern": {
              "fillmode": "overlay",
              "size": 10,
              "solidity": 0.2
             }
            },
            "type": "histogram"
           }
          ],
          "histogram2d": [
           {
            "colorbar": {
             "outlinewidth": 0,
             "ticks": ""
            },
            "colorscale": [
             [
              0,
              "#0d0887"
             ],
             [
              0.1111111111111111,
              "#46039f"
             ],
             [
              0.2222222222222222,
              "#7201a8"
             ],
             [
              0.3333333333333333,
              "#9c179e"
             ],
             [
              0.4444444444444444,
              "#bd3786"
             ],
             [
              0.5555555555555556,
              "#d8576b"
             ],
             [
              0.6666666666666666,
              "#ed7953"
             ],
             [
              0.7777777777777778,
              "#fb9f3a"
             ],
             [
              0.8888888888888888,
              "#fdca26"
             ],
             [
              1,
              "#f0f921"
             ]
            ],
            "type": "histogram2d"
           }
          ],
          "histogram2dcontour": [
           {
            "colorbar": {
             "outlinewidth": 0,
             "ticks": ""
            },
            "colorscale": [
             [
              0,
              "#0d0887"
             ],
             [
              0.1111111111111111,
              "#46039f"
             ],
             [
              0.2222222222222222,
              "#7201a8"
             ],
             [
              0.3333333333333333,
              "#9c179e"
             ],
             [
              0.4444444444444444,
              "#bd3786"
             ],
             [
              0.5555555555555556,
              "#d8576b"
             ],
             [
              0.6666666666666666,
              "#ed7953"
             ],
             [
              0.7777777777777778,
              "#fb9f3a"
             ],
             [
              0.8888888888888888,
              "#fdca26"
             ],
             [
              1,
              "#f0f921"
             ]
            ],
            "type": "histogram2dcontour"
           }
          ],
          "mesh3d": [
           {
            "colorbar": {
             "outlinewidth": 0,
             "ticks": ""
            },
            "type": "mesh3d"
           }
          ],
          "parcoords": [
           {
            "line": {
             "colorbar": {
              "outlinewidth": 0,
              "ticks": ""
             }
            },
            "type": "parcoords"
           }
          ],
          "pie": [
           {
            "automargin": true,
            "type": "pie"
           }
          ],
          "scatter": [
           {
            "fillpattern": {
             "fillmode": "overlay",
             "size": 10,
             "solidity": 0.2
            },
            "type": "scatter"
           }
          ],
          "scatter3d": [
           {
            "line": {
             "colorbar": {
              "outlinewidth": 0,
              "ticks": ""
             }
            },
            "marker": {
             "colorbar": {
              "outlinewidth": 0,
              "ticks": ""
             }
            },
            "type": "scatter3d"
           }
          ],
          "scattercarpet": [
           {
            "marker": {
             "colorbar": {
              "outlinewidth": 0,
              "ticks": ""
             }
            },
            "type": "scattercarpet"
           }
          ],
          "scattergeo": [
           {
            "marker": {
             "colorbar": {
              "outlinewidth": 0,
              "ticks": ""
             }
            },
            "type": "scattergeo"
           }
          ],
          "scattergl": [
           {
            "marker": {
             "colorbar": {
              "outlinewidth": 0,
              "ticks": ""
             }
            },
            "type": "scattergl"
           }
          ],
          "scattermapbox": [
           {
            "marker": {
             "colorbar": {
              "outlinewidth": 0,
              "ticks": ""
             }
            },
            "type": "scattermapbox"
           }
          ],
          "scatterpolar": [
           {
            "marker": {
             "colorbar": {
              "outlinewidth": 0,
              "ticks": ""
             }
            },
            "type": "scatterpolar"
           }
          ],
          "scatterpolargl": [
           {
            "marker": {
             "colorbar": {
              "outlinewidth": 0,
              "ticks": ""
             }
            },
            "type": "scatterpolargl"
           }
          ],
          "scatterternary": [
           {
            "marker": {
             "colorbar": {
              "outlinewidth": 0,
              "ticks": ""
             }
            },
            "type": "scatterternary"
           }
          ],
          "surface": [
           {
            "colorbar": {
             "outlinewidth": 0,
             "ticks": ""
            },
            "colorscale": [
             [
              0,
              "#0d0887"
             ],
             [
              0.1111111111111111,
              "#46039f"
             ],
             [
              0.2222222222222222,
              "#7201a8"
             ],
             [
              0.3333333333333333,
              "#9c179e"
             ],
             [
              0.4444444444444444,
              "#bd3786"
             ],
             [
              0.5555555555555556,
              "#d8576b"
             ],
             [
              0.6666666666666666,
              "#ed7953"
             ],
             [
              0.7777777777777778,
              "#fb9f3a"
             ],
             [
              0.8888888888888888,
              "#fdca26"
             ],
             [
              1,
              "#f0f921"
             ]
            ],
            "type": "surface"
           }
          ],
          "table": [
           {
            "cells": {
             "fill": {
              "color": "#EBF0F8"
             },
             "line": {
              "color": "white"
             }
            },
            "header": {
             "fill": {
              "color": "#C8D4E3"
             },
             "line": {
              "color": "white"
             }
            },
            "type": "table"
           }
          ]
         },
         "layout": {
          "annotationdefaults": {
           "arrowcolor": "#2a3f5f",
           "arrowhead": 0,
           "arrowwidth": 1
          },
          "autotypenumbers": "strict",
          "coloraxis": {
           "colorbar": {
            "outlinewidth": 0,
            "ticks": ""
           }
          },
          "colorscale": {
           "diverging": [
            [
             0,
             "#8e0152"
            ],
            [
             0.1,
             "#c51b7d"
            ],
            [
             0.2,
             "#de77ae"
            ],
            [
             0.3,
             "#f1b6da"
            ],
            [
             0.4,
             "#fde0ef"
            ],
            [
             0.5,
             "#f7f7f7"
            ],
            [
             0.6,
             "#e6f5d0"
            ],
            [
             0.7,
             "#b8e186"
            ],
            [
             0.8,
             "#7fbc41"
            ],
            [
             0.9,
             "#4d9221"
            ],
            [
             1,
             "#276419"
            ]
           ],
           "sequential": [
            [
             0,
             "#0d0887"
            ],
            [
             0.1111111111111111,
             "#46039f"
            ],
            [
             0.2222222222222222,
             "#7201a8"
            ],
            [
             0.3333333333333333,
             "#9c179e"
            ],
            [
             0.4444444444444444,
             "#bd3786"
            ],
            [
             0.5555555555555556,
             "#d8576b"
            ],
            [
             0.6666666666666666,
             "#ed7953"
            ],
            [
             0.7777777777777778,
             "#fb9f3a"
            ],
            [
             0.8888888888888888,
             "#fdca26"
            ],
            [
             1,
             "#f0f921"
            ]
           ],
           "sequentialminus": [
            [
             0,
             "#0d0887"
            ],
            [
             0.1111111111111111,
             "#46039f"
            ],
            [
             0.2222222222222222,
             "#7201a8"
            ],
            [
             0.3333333333333333,
             "#9c179e"
            ],
            [
             0.4444444444444444,
             "#bd3786"
            ],
            [
             0.5555555555555556,
             "#d8576b"
            ],
            [
             0.6666666666666666,
             "#ed7953"
            ],
            [
             0.7777777777777778,
             "#fb9f3a"
            ],
            [
             0.8888888888888888,
             "#fdca26"
            ],
            [
             1,
             "#f0f921"
            ]
           ]
          },
          "colorway": [
           "#636efa",
           "#EF553B",
           "#00cc96",
           "#ab63fa",
           "#FFA15A",
           "#19d3f3",
           "#FF6692",
           "#B6E880",
           "#FF97FF",
           "#FECB52"
          ],
          "font": {
           "color": "#2a3f5f"
          },
          "geo": {
           "bgcolor": "white",
           "lakecolor": "white",
           "landcolor": "#E5ECF6",
           "showlakes": true,
           "showland": true,
           "subunitcolor": "white"
          },
          "hoverlabel": {
           "align": "left"
          },
          "hovermode": "closest",
          "mapbox": {
           "style": "light"
          },
          "paper_bgcolor": "white",
          "plot_bgcolor": "#E5ECF6",
          "polar": {
           "angularaxis": {
            "gridcolor": "white",
            "linecolor": "white",
            "ticks": ""
           },
           "bgcolor": "#E5ECF6",
           "radialaxis": {
            "gridcolor": "white",
            "linecolor": "white",
            "ticks": ""
           }
          },
          "scene": {
           "xaxis": {
            "backgroundcolor": "#E5ECF6",
            "gridcolor": "white",
            "gridwidth": 2,
            "linecolor": "white",
            "showbackground": true,
            "ticks": "",
            "zerolinecolor": "white"
           },
           "yaxis": {
            "backgroundcolor": "#E5ECF6",
            "gridcolor": "white",
            "gridwidth": 2,
            "linecolor": "white",
            "showbackground": true,
            "ticks": "",
            "zerolinecolor": "white"
           },
           "zaxis": {
            "backgroundcolor": "#E5ECF6",
            "gridcolor": "white",
            "gridwidth": 2,
            "linecolor": "white",
            "showbackground": true,
            "ticks": "",
            "zerolinecolor": "white"
           }
          },
          "shapedefaults": {
           "line": {
            "color": "#2a3f5f"
           }
          },
          "ternary": {
           "aaxis": {
            "gridcolor": "white",
            "linecolor": "white",
            "ticks": ""
           },
           "baxis": {
            "gridcolor": "white",
            "linecolor": "white",
            "ticks": ""
           },
           "bgcolor": "#E5ECF6",
           "caxis": {
            "gridcolor": "white",
            "linecolor": "white",
            "ticks": ""
           }
          },
          "title": {
           "x": 0.05
          },
          "xaxis": {
           "automargin": true,
           "gridcolor": "white",
           "linecolor": "white",
           "ticks": "",
           "title": {
            "standoff": 15
           },
           "zerolinecolor": "white",
           "zerolinewidth": 2
          },
          "yaxis": {
           "automargin": true,
           "gridcolor": "white",
           "linecolor": "white",
           "ticks": "",
           "title": {
            "standoff": 15
           },
           "zerolinecolor": "white",
           "zerolinewidth": 2
          }
         }
        },
        "title": {
         "text": "Prinicpal Component Projections"
        }
       }
      }
     },
     "metadata": {},
     "output_type": "display_data"
    }
   ],
   "source": [
    "# plotting spectra projections\n",
    "fig2 = px.scatter_matrix(\n",
    "    projections_df,\n",
    "    dimensions = ['PC1', 'PC2', 'PC3', 'PC4', 'PC5', 'PC6'],\n",
    "    color = 'Coffee Type',\n",
    "    title = \"Prinicpal Component Projections\"\n",
    "    )\n",
    "fig2.update_traces(diagonal_visible=False)\n",
    "fig2.show()"
   ]
  },
  {
   "cell_type": "code",
   "execution_count": 8,
   "metadata": {},
   "outputs": [
    {
     "data": {
      "application/vnd.plotly.v1+json": {
       "config": {
        "plotlyServerURL": "https://plot.ly"
       },
       "data": [
        {
         "hovertemplate": "Coffee Type=Arabica<br>PC3=%{x}<br>PC1=%{y}<extra></extra>",
         "legendgroup": "Arabica",
         "marker": {
          "color": "#636efa",
          "symbol": "circle"
         },
         "mode": "markers",
         "name": "Arabica",
         "orientation": "v",
         "showlegend": true,
         "type": "scatter",
         "x": [
          3.238411663107925,
          8.091908914023886,
          8.725272948677905,
          4.449118806473492,
          7.083653772257852,
          13.126845256723875,
          4.8376642744880884,
          6.452408253967695,
          5.616212237513816,
          7.678683692595785,
          2.0959401061332468,
          6.944332268966756,
          2.4182138970272327,
          7.991824136139911,
          3.469490460475084,
          8.590242850171293,
          8.23616111864167,
          2.562230268447321,
          9.824788962576156,
          6.236223166198862,
          5.768432969109545,
          4.147677611723181,
          6.282922611438759,
          10.609724816247017,
          7.537139454344148,
          5.435206270942659,
          7.73065569791534,
          11.562272461280662,
          4.26031610652278
         ],
         "xaxis": "x",
         "y": [
          194.65885130222293,
          -68.20192872974339,
          8.036018445085308,
          60.53409004052869,
          97.0662294864241,
          -14.340755730782284,
          23.540420981584653,
          61.33317498261938,
          21.06695581864045,
          54.904555224190915,
          54.40590502329683,
          7.903487174806152,
          96.14622993414338,
          2.0929460864108944,
          3.3901525350523567,
          -7.999516193842529,
          -8.50603231285031,
          37.77215046824813,
          -27.151701784410413,
          -9.101519350145471,
          -86.57572153297934,
          7.296507757518153,
          -28.059186198976136,
          18.48418955239884,
          17.29923424539332,
          9.916540685808265,
          -93.38158763833584,
          -87.71282473452356,
          -8.090436378902318
         ],
         "yaxis": "y"
        },
        {
         "hovertemplate": "Coffee Type=Robusta<br>PC3=%{x}<br>PC1=%{y}<extra></extra>",
         "legendgroup": "Robusta",
         "marker": {
          "color": "#EF553B",
          "symbol": "circle"
         },
         "mode": "markers",
         "name": "Robusta",
         "orientation": "v",
         "showlegend": true,
         "type": "scatter",
         "x": [
          -6.223402070098899,
          -11.672412400690057,
          1.7694463332102206,
          -19.47912693018126,
          -11.018658188920025,
          -4.908563467082394,
          -10.35901066789937,
          -5.0205341647054915,
          -6.654989007975325,
          -2.4015204076226135,
          2.333773505424757,
          -7.005740485526302,
          -5.581646827216658,
          2.4779785616303087,
          -13.537558521564682,
          -11.001923729599921,
          -12.541546738009863,
          -9.976291963881083,
          -8.43356204235727,
          -1.1133832891514004,
          -13.70583963679586,
          -2.077779502518471,
          -2.939597145771632,
          -14.500732592633126,
          -2.892200290471548,
          -6.013367339307289,
          -8.525786044416638
         ],
         "xaxis": "x",
         "y": [
          0.08292620982874144,
          -16.711137473376336,
          -56.24662324120578,
          70.35279676621587,
          42.18200064827537,
          -59.892667632077334,
          -25.01700748055277,
          70.2384337276655,
          50.80687846389476,
          -10.949268718122516,
          -37.319035767917825,
          -25.957670124551743,
          70.75445778100786,
          25.18566751615244,
          37.186544774947734,
          7.064398245155742,
          -36.79025550373484,
          2.1782393002222804,
          -62.64290545656334,
          -92.47118184583167,
          -46.827390415093326,
          -55.58570342813648,
          -92.72095219534448,
          -15.265219580443233,
          -40.98005469040762,
          -33.683929328237795,
          -3.6977697106502365
         ],
         "yaxis": "y"
        }
       ],
       "layout": {
        "legend": {
         "title": {
          "text": "Coffee Type"
         },
         "tracegroupgap": 0
        },
        "template": {
         "data": {
          "bar": [
           {
            "error_x": {
             "color": "#2a3f5f"
            },
            "error_y": {
             "color": "#2a3f5f"
            },
            "marker": {
             "line": {
              "color": "#E5ECF6",
              "width": 0.5
             },
             "pattern": {
              "fillmode": "overlay",
              "size": 10,
              "solidity": 0.2
             }
            },
            "type": "bar"
           }
          ],
          "barpolar": [
           {
            "marker": {
             "line": {
              "color": "#E5ECF6",
              "width": 0.5
             },
             "pattern": {
              "fillmode": "overlay",
              "size": 10,
              "solidity": 0.2
             }
            },
            "type": "barpolar"
           }
          ],
          "carpet": [
           {
            "aaxis": {
             "endlinecolor": "#2a3f5f",
             "gridcolor": "white",
             "linecolor": "white",
             "minorgridcolor": "white",
             "startlinecolor": "#2a3f5f"
            },
            "baxis": {
             "endlinecolor": "#2a3f5f",
             "gridcolor": "white",
             "linecolor": "white",
             "minorgridcolor": "white",
             "startlinecolor": "#2a3f5f"
            },
            "type": "carpet"
           }
          ],
          "choropleth": [
           {
            "colorbar": {
             "outlinewidth": 0,
             "ticks": ""
            },
            "type": "choropleth"
           }
          ],
          "contour": [
           {
            "colorbar": {
             "outlinewidth": 0,
             "ticks": ""
            },
            "colorscale": [
             [
              0,
              "#0d0887"
             ],
             [
              0.1111111111111111,
              "#46039f"
             ],
             [
              0.2222222222222222,
              "#7201a8"
             ],
             [
              0.3333333333333333,
              "#9c179e"
             ],
             [
              0.4444444444444444,
              "#bd3786"
             ],
             [
              0.5555555555555556,
              "#d8576b"
             ],
             [
              0.6666666666666666,
              "#ed7953"
             ],
             [
              0.7777777777777778,
              "#fb9f3a"
             ],
             [
              0.8888888888888888,
              "#fdca26"
             ],
             [
              1,
              "#f0f921"
             ]
            ],
            "type": "contour"
           }
          ],
          "contourcarpet": [
           {
            "colorbar": {
             "outlinewidth": 0,
             "ticks": ""
            },
            "type": "contourcarpet"
           }
          ],
          "heatmap": [
           {
            "colorbar": {
             "outlinewidth": 0,
             "ticks": ""
            },
            "colorscale": [
             [
              0,
              "#0d0887"
             ],
             [
              0.1111111111111111,
              "#46039f"
             ],
             [
              0.2222222222222222,
              "#7201a8"
             ],
             [
              0.3333333333333333,
              "#9c179e"
             ],
             [
              0.4444444444444444,
              "#bd3786"
             ],
             [
              0.5555555555555556,
              "#d8576b"
             ],
             [
              0.6666666666666666,
              "#ed7953"
             ],
             [
              0.7777777777777778,
              "#fb9f3a"
             ],
             [
              0.8888888888888888,
              "#fdca26"
             ],
             [
              1,
              "#f0f921"
             ]
            ],
            "type": "heatmap"
           }
          ],
          "heatmapgl": [
           {
            "colorbar": {
             "outlinewidth": 0,
             "ticks": ""
            },
            "colorscale": [
             [
              0,
              "#0d0887"
             ],
             [
              0.1111111111111111,
              "#46039f"
             ],
             [
              0.2222222222222222,
              "#7201a8"
             ],
             [
              0.3333333333333333,
              "#9c179e"
             ],
             [
              0.4444444444444444,
              "#bd3786"
             ],
             [
              0.5555555555555556,
              "#d8576b"
             ],
             [
              0.6666666666666666,
              "#ed7953"
             ],
             [
              0.7777777777777778,
              "#fb9f3a"
             ],
             [
              0.8888888888888888,
              "#fdca26"
             ],
             [
              1,
              "#f0f921"
             ]
            ],
            "type": "heatmapgl"
           }
          ],
          "histogram": [
           {
            "marker": {
             "pattern": {
              "fillmode": "overlay",
              "size": 10,
              "solidity": 0.2
             }
            },
            "type": "histogram"
           }
          ],
          "histogram2d": [
           {
            "colorbar": {
             "outlinewidth": 0,
             "ticks": ""
            },
            "colorscale": [
             [
              0,
              "#0d0887"
             ],
             [
              0.1111111111111111,
              "#46039f"
             ],
             [
              0.2222222222222222,
              "#7201a8"
             ],
             [
              0.3333333333333333,
              "#9c179e"
             ],
             [
              0.4444444444444444,
              "#bd3786"
             ],
             [
              0.5555555555555556,
              "#d8576b"
             ],
             [
              0.6666666666666666,
              "#ed7953"
             ],
             [
              0.7777777777777778,
              "#fb9f3a"
             ],
             [
              0.8888888888888888,
              "#fdca26"
             ],
             [
              1,
              "#f0f921"
             ]
            ],
            "type": "histogram2d"
           }
          ],
          "histogram2dcontour": [
           {
            "colorbar": {
             "outlinewidth": 0,
             "ticks": ""
            },
            "colorscale": [
             [
              0,
              "#0d0887"
             ],
             [
              0.1111111111111111,
              "#46039f"
             ],
             [
              0.2222222222222222,
              "#7201a8"
             ],
             [
              0.3333333333333333,
              "#9c179e"
             ],
             [
              0.4444444444444444,
              "#bd3786"
             ],
             [
              0.5555555555555556,
              "#d8576b"
             ],
             [
              0.6666666666666666,
              "#ed7953"
             ],
             [
              0.7777777777777778,
              "#fb9f3a"
             ],
             [
              0.8888888888888888,
              "#fdca26"
             ],
             [
              1,
              "#f0f921"
             ]
            ],
            "type": "histogram2dcontour"
           }
          ],
          "mesh3d": [
           {
            "colorbar": {
             "outlinewidth": 0,
             "ticks": ""
            },
            "type": "mesh3d"
           }
          ],
          "parcoords": [
           {
            "line": {
             "colorbar": {
              "outlinewidth": 0,
              "ticks": ""
             }
            },
            "type": "parcoords"
           }
          ],
          "pie": [
           {
            "automargin": true,
            "type": "pie"
           }
          ],
          "scatter": [
           {
            "fillpattern": {
             "fillmode": "overlay",
             "size": 10,
             "solidity": 0.2
            },
            "type": "scatter"
           }
          ],
          "scatter3d": [
           {
            "line": {
             "colorbar": {
              "outlinewidth": 0,
              "ticks": ""
             }
            },
            "marker": {
             "colorbar": {
              "outlinewidth": 0,
              "ticks": ""
             }
            },
            "type": "scatter3d"
           }
          ],
          "scattercarpet": [
           {
            "marker": {
             "colorbar": {
              "outlinewidth": 0,
              "ticks": ""
             }
            },
            "type": "scattercarpet"
           }
          ],
          "scattergeo": [
           {
            "marker": {
             "colorbar": {
              "outlinewidth": 0,
              "ticks": ""
             }
            },
            "type": "scattergeo"
           }
          ],
          "scattergl": [
           {
            "marker": {
             "colorbar": {
              "outlinewidth": 0,
              "ticks": ""
             }
            },
            "type": "scattergl"
           }
          ],
          "scattermapbox": [
           {
            "marker": {
             "colorbar": {
              "outlinewidth": 0,
              "ticks": ""
             }
            },
            "type": "scattermapbox"
           }
          ],
          "scatterpolar": [
           {
            "marker": {
             "colorbar": {
              "outlinewidth": 0,
              "ticks": ""
             }
            },
            "type": "scatterpolar"
           }
          ],
          "scatterpolargl": [
           {
            "marker": {
             "colorbar": {
              "outlinewidth": 0,
              "ticks": ""
             }
            },
            "type": "scatterpolargl"
           }
          ],
          "scatterternary": [
           {
            "marker": {
             "colorbar": {
              "outlinewidth": 0,
              "ticks": ""
             }
            },
            "type": "scatterternary"
           }
          ],
          "surface": [
           {
            "colorbar": {
             "outlinewidth": 0,
             "ticks": ""
            },
            "colorscale": [
             [
              0,
              "#0d0887"
             ],
             [
              0.1111111111111111,
              "#46039f"
             ],
             [
              0.2222222222222222,
              "#7201a8"
             ],
             [
              0.3333333333333333,
              "#9c179e"
             ],
             [
              0.4444444444444444,
              "#bd3786"
             ],
             [
              0.5555555555555556,
              "#d8576b"
             ],
             [
              0.6666666666666666,
              "#ed7953"
             ],
             [
              0.7777777777777778,
              "#fb9f3a"
             ],
             [
              0.8888888888888888,
              "#fdca26"
             ],
             [
              1,
              "#f0f921"
             ]
            ],
            "type": "surface"
           }
          ],
          "table": [
           {
            "cells": {
             "fill": {
              "color": "#EBF0F8"
             },
             "line": {
              "color": "white"
             }
            },
            "header": {
             "fill": {
              "color": "#C8D4E3"
             },
             "line": {
              "color": "white"
             }
            },
            "type": "table"
           }
          ]
         },
         "layout": {
          "annotationdefaults": {
           "arrowcolor": "#2a3f5f",
           "arrowhead": 0,
           "arrowwidth": 1
          },
          "autotypenumbers": "strict",
          "coloraxis": {
           "colorbar": {
            "outlinewidth": 0,
            "ticks": ""
           }
          },
          "colorscale": {
           "diverging": [
            [
             0,
             "#8e0152"
            ],
            [
             0.1,
             "#c51b7d"
            ],
            [
             0.2,
             "#de77ae"
            ],
            [
             0.3,
             "#f1b6da"
            ],
            [
             0.4,
             "#fde0ef"
            ],
            [
             0.5,
             "#f7f7f7"
            ],
            [
             0.6,
             "#e6f5d0"
            ],
            [
             0.7,
             "#b8e186"
            ],
            [
             0.8,
             "#7fbc41"
            ],
            [
             0.9,
             "#4d9221"
            ],
            [
             1,
             "#276419"
            ]
           ],
           "sequential": [
            [
             0,
             "#0d0887"
            ],
            [
             0.1111111111111111,
             "#46039f"
            ],
            [
             0.2222222222222222,
             "#7201a8"
            ],
            [
             0.3333333333333333,
             "#9c179e"
            ],
            [
             0.4444444444444444,
             "#bd3786"
            ],
            [
             0.5555555555555556,
             "#d8576b"
            ],
            [
             0.6666666666666666,
             "#ed7953"
            ],
            [
             0.7777777777777778,
             "#fb9f3a"
            ],
            [
             0.8888888888888888,
             "#fdca26"
            ],
            [
             1,
             "#f0f921"
            ]
           ],
           "sequentialminus": [
            [
             0,
             "#0d0887"
            ],
            [
             0.1111111111111111,
             "#46039f"
            ],
            [
             0.2222222222222222,
             "#7201a8"
            ],
            [
             0.3333333333333333,
             "#9c179e"
            ],
            [
             0.4444444444444444,
             "#bd3786"
            ],
            [
             0.5555555555555556,
             "#d8576b"
            ],
            [
             0.6666666666666666,
             "#ed7953"
            ],
            [
             0.7777777777777778,
             "#fb9f3a"
            ],
            [
             0.8888888888888888,
             "#fdca26"
            ],
            [
             1,
             "#f0f921"
            ]
           ]
          },
          "colorway": [
           "#636efa",
           "#EF553B",
           "#00cc96",
           "#ab63fa",
           "#FFA15A",
           "#19d3f3",
           "#FF6692",
           "#B6E880",
           "#FF97FF",
           "#FECB52"
          ],
          "font": {
           "color": "#2a3f5f"
          },
          "geo": {
           "bgcolor": "white",
           "lakecolor": "white",
           "landcolor": "#E5ECF6",
           "showlakes": true,
           "showland": true,
           "subunitcolor": "white"
          },
          "hoverlabel": {
           "align": "left"
          },
          "hovermode": "closest",
          "mapbox": {
           "style": "light"
          },
          "paper_bgcolor": "white",
          "plot_bgcolor": "#E5ECF6",
          "polar": {
           "angularaxis": {
            "gridcolor": "white",
            "linecolor": "white",
            "ticks": ""
           },
           "bgcolor": "#E5ECF6",
           "radialaxis": {
            "gridcolor": "white",
            "linecolor": "white",
            "ticks": ""
           }
          },
          "scene": {
           "xaxis": {
            "backgroundcolor": "#E5ECF6",
            "gridcolor": "white",
            "gridwidth": 2,
            "linecolor": "white",
            "showbackground": true,
            "ticks": "",
            "zerolinecolor": "white"
           },
           "yaxis": {
            "backgroundcolor": "#E5ECF6",
            "gridcolor": "white",
            "gridwidth": 2,
            "linecolor": "white",
            "showbackground": true,
            "ticks": "",
            "zerolinecolor": "white"
           },
           "zaxis": {
            "backgroundcolor": "#E5ECF6",
            "gridcolor": "white",
            "gridwidth": 2,
            "linecolor": "white",
            "showbackground": true,
            "ticks": "",
            "zerolinecolor": "white"
           }
          },
          "shapedefaults": {
           "line": {
            "color": "#2a3f5f"
           }
          },
          "ternary": {
           "aaxis": {
            "gridcolor": "white",
            "linecolor": "white",
            "ticks": ""
           },
           "baxis": {
            "gridcolor": "white",
            "linecolor": "white",
            "ticks": ""
           },
           "bgcolor": "#E5ECF6",
           "caxis": {
            "gridcolor": "white",
            "linecolor": "white",
            "ticks": ""
           }
          },
          "title": {
           "x": 0.05
          },
          "xaxis": {
           "automargin": true,
           "gridcolor": "white",
           "linecolor": "white",
           "ticks": "",
           "title": {
            "standoff": 15
           },
           "zerolinecolor": "white",
           "zerolinewidth": 2
          },
          "yaxis": {
           "automargin": true,
           "gridcolor": "white",
           "linecolor": "white",
           "ticks": "",
           "title": {
            "standoff": 15
           },
           "zerolinecolor": "white",
           "zerolinewidth": 2
          }
         }
        },
        "title": {
         "text": "PC1 vs PC3"
        },
        "xaxis": {
         "anchor": "y",
         "domain": [
          0,
          1
         ],
         "title": {
          "text": "PC3"
         }
        },
        "yaxis": {
         "anchor": "x",
         "domain": [
          0,
          1
         ],
         "title": {
          "text": "PC1"
         }
        }
       }
      }
     },
     "metadata": {},
     "output_type": "display_data"
    }
   ],
   "source": [
    "# plotting pair of prinicpal components\n",
    "fig3 = px.scatter(\n",
    "    projections_df,\n",
    "    x = 'PC3',\n",
    "    y = 'PC1',\n",
    "    color = 'Coffee Type',\n",
    "    title = \"PC1 vs PC3\"\n",
    ")\n",
    "fig3.show()"
   ]
  },
  {
   "cell_type": "markdown",
   "metadata": {},
   "source": [
    "PC1  and  PC3  are  a  pair  of  principal  components  that provide a good separation of the different coffee types if the spectra are projected into this subspace"
   ]
  },
  {
   "cell_type": "code",
   "execution_count": 9,
   "metadata": {},
   "outputs": [
    {
     "name": "stdout",
     "output_type": "stream",
     "text": [
      "(56, 286)\n"
     ]
    }
   ],
   "source": [
    "# reconstructing spectra\n",
    "reconstructed_spectra = np.matmul(projections_array, np.transpose(pc_array)) + column_means\n",
    "print(reconstructed_spectra.shape)\n",
    "arabica_row = reconstructed_spectra[0,:]\n",
    "robusta_row = reconstructed_spectra[55,:]"
   ]
  },
  {
   "cell_type": "code",
   "execution_count": 10,
   "metadata": {},
   "outputs": [
    {
     "data": {
      "application/vnd.plotly.v1+json": {
       "config": {
        "plotlyServerURL": "https://plot.ly"
       },
       "data": [
        {
         "hovertemplate": "Signal Type=Original<br>Wavelength=%{x}<br>Signal=%{y}<extra></extra>",
         "legendgroup": "Original",
         "line": {
          "color": "#636efa",
          "dash": "solid"
         },
         "marker": {
          "symbol": "circle"
         },
         "mode": "lines",
         "name": "Original",
         "orientation": "v",
         "showlegend": true,
         "type": "scatter",
         "x": [
          810.548,
          814.408,
          818.268,
          822.128,
          825.988,
          829.8480000000001,
          833.7080000000001,
          837.568,
          841.428,
          845.288,
          849.148,
          853.008,
          856.867,
          860.727,
          864.587,
          868.447,
          872.307,
          876.1669999999999,
          880.0269999999999,
          883.887,
          887.747,
          891.607,
          895.467,
          899.327,
          903.187,
          907.047,
          910.907,
          914.767,
          918.627,
          922.487,
          926.347,
          930.207,
          934.067,
          937.927,
          941.787,
          945.647,
          949.507,
          953.367,
          957.227,
          961.087,
          964.947,
          968.807,
          972.667,
          976.527,
          980.387,
          984.247,
          988.107,
          991.967,
          995.827,
          999.687,
          1003.547,
          1007.407,
          1011.267,
          1015.127,
          1018.987,
          1022.847,
          1026.707,
          1030.567,
          1034.427,
          1038.287,
          1042.147,
          1046.007,
          1049.867,
          1053.727,
          1057.587,
          1061.447,
          1065.307,
          1069.167,
          1073.027,
          1076.887,
          1080.747,
          1084.607,
          1088.467,
          1092.327,
          1096.187,
          1100.047,
          1103.907,
          1107.767,
          1111.627,
          1115.487,
          1119.347,
          1123.207,
          1127.067,
          1130.927,
          1134.786,
          1138.646,
          1142.506,
          1146.366,
          1150.226,
          1154.086,
          1157.946,
          1161.806,
          1165.6660000000002,
          1169.526,
          1173.386,
          1177.246,
          1181.106,
          1184.966,
          1188.826,
          1192.686,
          1196.546,
          1200.406,
          1204.266,
          1208.126,
          1211.986,
          1215.846,
          1219.706,
          1223.566,
          1227.4260000000002,
          1231.286,
          1235.146,
          1239.006,
          1242.866,
          1246.726,
          1250.586,
          1254.446,
          1258.306,
          1262.1660000000002,
          1266.026,
          1269.886,
          1273.746,
          1277.606,
          1281.466,
          1285.326,
          1289.186,
          1293.046,
          1296.906,
          1300.766,
          1304.626,
          1308.486,
          1312.346,
          1316.206,
          1320.066,
          1323.9260000000002,
          1327.786,
          1331.646,
          1335.506,
          1339.366,
          1343.226,
          1347.086,
          1350.946,
          1354.806,
          1358.6660000000002,
          1362.526,
          1366.386,
          1370.246,
          1374.106,
          1377.966,
          1381.826,
          1385.686,
          1389.545,
          1393.405,
          1397.265,
          1401.125,
          1404.985,
          1408.845,
          1412.705,
          1416.565,
          1420.425,
          1424.285,
          1428.145,
          1432.005,
          1435.865,
          1439.725,
          1443.585,
          1447.445,
          1451.305,
          1455.165,
          1459.025,
          1462.885,
          1466.745,
          1470.605,
          1474.465,
          1478.325,
          1482.185,
          1486.045,
          1489.905,
          1493.765,
          1497.625,
          1501.485,
          1505.345,
          1509.205,
          1513.065,
          1516.925,
          1520.785,
          1524.645,
          1528.505,
          1532.365,
          1536.225,
          1540.085,
          1543.945,
          1547.805,
          1551.665,
          1555.525,
          1559.385,
          1563.245,
          1567.105,
          1570.965,
          1574.825,
          1578.685,
          1582.545,
          1586.405,
          1590.265,
          1594.125,
          1597.985,
          1601.845,
          1605.705,
          1609.565,
          1613.425,
          1617.285,
          1621.145,
          1625.005,
          1628.865,
          1632.725,
          1636.585,
          1640.445,
          1644.304,
          1648.164,
          1652.024,
          1655.884,
          1659.744,
          1663.604,
          1667.464,
          1671.3239999999998,
          1675.184,
          1679.044,
          1682.904,
          1686.764,
          1690.624,
          1694.484,
          1698.344,
          1702.204,
          1706.064,
          1709.924,
          1713.784,
          1717.644,
          1721.504,
          1725.364,
          1729.224,
          1733.0839999999998,
          1736.944,
          1740.804,
          1744.664,
          1748.524,
          1752.384,
          1756.244,
          1760.104,
          1763.964,
          1767.8239999999998,
          1771.684,
          1775.544,
          1779.404,
          1783.264,
          1787.124,
          1790.984,
          1794.844,
          1798.704,
          1802.564,
          1806.424,
          1810.284,
          1814.144,
          1818.004,
          1821.864,
          1825.724,
          1829.584,
          1833.444,
          1837.304,
          1841.164,
          1845.024,
          1848.884,
          1852.744,
          1856.604,
          1860.464,
          1864.324,
          1868.184,
          1872.044,
          1875.904,
          1879.764,
          1883.624,
          1887.484,
          1891.344,
          1895.204,
          1899.064,
          1902.924,
          1906.784,
          1910.644
         ],
         "xaxis": "x",
         "y": [
          21.22761979,
          21.83750917,
          22.72997487,
          22.51766332,
          21.04017788,
          19.25630567,
          18.51798162,
          18.34777311,
          18.04403433,
          17.73585838,
          17.63630111,
          18.03080154,
          18.23474687,
          18.2754472,
          17.65333413,
          16.70317087,
          16.2375397,
          16.1838356,
          16.45831767,
          16.58046158,
          16.42611238,
          16.2445032,
          16.09567184,
          15.75614942,
          15.79168974,
          16.1326793,
          16.50832174,
          16.87148285,
          16.84265554,
          16.84565421,
          16.63445195,
          16.34911312,
          16.4368761,
          16.49143186,
          16.76419631,
          16.775461,
          17.00809767,
          17.83696866,
          18.03743583,
          18.53530806,
          19.58077034,
          20.08708752,
          20.60874872,
          21.74871562,
          22.71521053,
          23.33262879,
          23.62274115,
          23.51879681,
          23.60340367,
          24.18692049,
          24.61565872,
          24.57014191,
          24.95323451,
          25.70241532,
          26.15681758,
          26.58004512,
          28.14747634,
          29.77171769,
          30.68093729,
          31.9150295,
          31.97395802,
          31.62427303,
          31.92809053,
          31.79652837,
          31.60483535,
          32.3806893,
          33.91842009,
          36.31316214,
          37.15383459,
          36.31814322,
          36.82734456,
          37.13982886,
          38.12349278,
          38.09054319,
          37.3383494,
          37.20202085,
          36.30143226,
          35.80601478,
          35.49294363,
          35.66275852,
          36.2970595,
          37.16573623,
          37.3031025,
          36.6243797,
          35.60523988,
          34.492991,
          34.01724021,
          33.45268157,
          34.18361987,
          36.21592365,
          36.2395838,
          36.58756548,
          36.04434105,
          35.02545171,
          34.77056477,
          33.88634362,
          34.51077547,
          34.78630242,
          34.57303902,
          34.79388855,
          33.54543995,
          33.16820871,
          33.29828228,
          32.67707096,
          32.37783376,
          31.95426985,
          32.0272184,
          31.73812945,
          30.97250963,
          31.27157506,
          32.5101617,
          33.63406173,
          33.86633341,
          34.25639666,
          34.37323028,
          34.66123856,
          35.20683188,
          35.85651267,
          36.24117259,
          36.83027167,
          38.5730213,
          38.21445481,
          38.10782669,
          39.00268274,
          38.62704746,
          38.04744536,
          37.41328036,
          36.38949582,
          35.77736639,
          34.98004942,
          33.90388477,
          33.37044358,
          33.49299543,
          33.3160095,
          32.69021787,
          32.47633184,
          32.85425728,
          33.05745115,
          32.45577055,
          32.76627244,
          33.12662095,
          32.90522035,
          33.48638261,
          34.44677999,
          34.96829806,
          36.62462303,
          38.03923659,
          38.14908524,
          37.83610713,
          37.10387345,
          38.43657109,
          39.83573327,
          40.7633242,
          41.43226376,
          40.9899349,
          41.91992334,
          43.10164975,
          41.319588200000005,
          40.10773911,
          40.24016008,
          41.31366958,
          40.85336302,
          38.44163805,
          37.92441402,
          38.18023133,
          37.81988998,
          36.80883726,
          36.11962985,
          35.4191148,
          35.15625526,
          33.36256402,
          31.28700497,
          29.59732965,
          28.26101787,
          26.98449341,
          26.28627567,
          26.10916807,
          25.31819196,
          25.25592125,
          25.3426966,
          25.27068559,
          26.4592753,
          27.64117348,
          28.28270276,
          27.78056511,
          28.00469958,
          28.6548384,
          28.01856217,
          26.74225241,
          26.47314505,
          28.00394812,
          28.59429962,
          29.79033234,
          30.31696748,
          30.83787007,
          32.4813988,
          33.17542985,
          34.00767882,
          35.01603345,
          36.9499966,
          37.86847702,
          38.69654646,
          39.20445959,
          40.723547100000005,
          42.15842852,
          42.4122348,
          43.66223641,
          45.78824326,
          47.13223421,
          47.12416142,
          45.6981114,
          43.27059152,
          42.25298324,
          43.6563679,
          46.02747843,
          47.79167678,
          47.27534018,
          45.64115098,
          45.30557191,
          47.76148969,
          49.63511445,
          47.46256024,
          42.8412736,
          40.05035645,
          39.2996441,
          39.03382168,
          38.87713223,
          39.39745513,
          40.61943099,
          41.60842667,
          41.75945514,
          44.52042138,
          44.99736734,
          43.58887278,
          41.93867397,
          36.46631616,
          33.07146403,
          31.61228551,
          28.39944334,
          25.18273653,
          22.55446322,
          20.20029267,
          17.86218182,
          16.34589975,
          14.80227897,
          13.82724608,
          13.26375378,
          12.77830563,
          12.48862983,
          12.29132594,
          12.24658922,
          11.93777632,
          11.32425133,
          10.54015999,
          9.543177402,
          8.423764636,
          7.497397505,
          6.6767352760000005,
          6.074067042,
          5.679666809,
          5.4282151,
          5.219718085,
          5.04472888,
          4.952328339,
          4.871249745,
          4.787487377,
          4.717866707,
          4.68045848,
          4.624185112,
          4.573243507,
          4.567017152,
          4.530374695,
          4.467982323,
          4.417412868,
          4.390396213,
          4.357231926,
          4.299970929,
          4.271923704,
          4.251176344,
          4.219550754,
          4.168709344,
          4.129132627,
          4.1053365,
          4.078105142,
          4.051911511,
          4.042686486
         ],
         "yaxis": "y"
        },
        {
         "hovertemplate": "Signal Type=Reconstructed<br>Wavelength=%{x}<br>Signal=%{y}<extra></extra>",
         "legendgroup": "Reconstructed",
         "line": {
          "color": "#EF553B",
          "dash": "solid"
         },
         "marker": {
          "symbol": "circle"
         },
         "mode": "lines",
         "name": "Reconstructed",
         "orientation": "v",
         "showlegend": true,
         "type": "scatter",
         "x": [
          810.548,
          814.408,
          818.268,
          822.128,
          825.988,
          829.8480000000001,
          833.7080000000001,
          837.568,
          841.428,
          845.288,
          849.148,
          853.008,
          856.867,
          860.727,
          864.587,
          868.447,
          872.307,
          876.1669999999999,
          880.0269999999999,
          883.887,
          887.747,
          891.607,
          895.467,
          899.327,
          903.187,
          907.047,
          910.907,
          914.767,
          918.627,
          922.487,
          926.347,
          930.207,
          934.067,
          937.927,
          941.787,
          945.647,
          949.507,
          953.367,
          957.227,
          961.087,
          964.947,
          968.807,
          972.667,
          976.527,
          980.387,
          984.247,
          988.107,
          991.967,
          995.827,
          999.687,
          1003.547,
          1007.407,
          1011.267,
          1015.127,
          1018.987,
          1022.847,
          1026.707,
          1030.567,
          1034.427,
          1038.287,
          1042.147,
          1046.007,
          1049.867,
          1053.727,
          1057.587,
          1061.447,
          1065.307,
          1069.167,
          1073.027,
          1076.887,
          1080.747,
          1084.607,
          1088.467,
          1092.327,
          1096.187,
          1100.047,
          1103.907,
          1107.767,
          1111.627,
          1115.487,
          1119.347,
          1123.207,
          1127.067,
          1130.927,
          1134.786,
          1138.646,
          1142.506,
          1146.366,
          1150.226,
          1154.086,
          1157.946,
          1161.806,
          1165.6660000000002,
          1169.526,
          1173.386,
          1177.246,
          1181.106,
          1184.966,
          1188.826,
          1192.686,
          1196.546,
          1200.406,
          1204.266,
          1208.126,
          1211.986,
          1215.846,
          1219.706,
          1223.566,
          1227.4260000000002,
          1231.286,
          1235.146,
          1239.006,
          1242.866,
          1246.726,
          1250.586,
          1254.446,
          1258.306,
          1262.1660000000002,
          1266.026,
          1269.886,
          1273.746,
          1277.606,
          1281.466,
          1285.326,
          1289.186,
          1293.046,
          1296.906,
          1300.766,
          1304.626,
          1308.486,
          1312.346,
          1316.206,
          1320.066,
          1323.9260000000002,
          1327.786,
          1331.646,
          1335.506,
          1339.366,
          1343.226,
          1347.086,
          1350.946,
          1354.806,
          1358.6660000000002,
          1362.526,
          1366.386,
          1370.246,
          1374.106,
          1377.966,
          1381.826,
          1385.686,
          1389.545,
          1393.405,
          1397.265,
          1401.125,
          1404.985,
          1408.845,
          1412.705,
          1416.565,
          1420.425,
          1424.285,
          1428.145,
          1432.005,
          1435.865,
          1439.725,
          1443.585,
          1447.445,
          1451.305,
          1455.165,
          1459.025,
          1462.885,
          1466.745,
          1470.605,
          1474.465,
          1478.325,
          1482.185,
          1486.045,
          1489.905,
          1493.765,
          1497.625,
          1501.485,
          1505.345,
          1509.205,
          1513.065,
          1516.925,
          1520.785,
          1524.645,
          1528.505,
          1532.365,
          1536.225,
          1540.085,
          1543.945,
          1547.805,
          1551.665,
          1555.525,
          1559.385,
          1563.245,
          1567.105,
          1570.965,
          1574.825,
          1578.685,
          1582.545,
          1586.405,
          1590.265,
          1594.125,
          1597.985,
          1601.845,
          1605.705,
          1609.565,
          1613.425,
          1617.285,
          1621.145,
          1625.005,
          1628.865,
          1632.725,
          1636.585,
          1640.445,
          1644.304,
          1648.164,
          1652.024,
          1655.884,
          1659.744,
          1663.604,
          1667.464,
          1671.3239999999998,
          1675.184,
          1679.044,
          1682.904,
          1686.764,
          1690.624,
          1694.484,
          1698.344,
          1702.204,
          1706.064,
          1709.924,
          1713.784,
          1717.644,
          1721.504,
          1725.364,
          1729.224,
          1733.0839999999998,
          1736.944,
          1740.804,
          1744.664,
          1748.524,
          1752.384,
          1756.244,
          1760.104,
          1763.964,
          1767.8239999999998,
          1771.684,
          1775.544,
          1779.404,
          1783.264,
          1787.124,
          1790.984,
          1794.844,
          1798.704,
          1802.564,
          1806.424,
          1810.284,
          1814.144,
          1818.004,
          1821.864,
          1825.724,
          1829.584,
          1833.444,
          1837.304,
          1841.164,
          1845.024,
          1848.884,
          1852.744,
          1856.604,
          1860.464,
          1864.324,
          1868.184,
          1872.044,
          1875.904,
          1879.764,
          1883.624,
          1887.484,
          1891.344,
          1895.204,
          1899.064,
          1902.924,
          1906.784,
          1910.644
         ],
         "xaxis": "x",
         "y": [
          21.921528528103572,
          22.443007925670273,
          22.953768285911252,
          22.64612894901459,
          21.46089597934207,
          20.022934150468004,
          19.198775078415323,
          18.728192476787054,
          18.39230663981401,
          18.27155602308998,
          18.25792348960544,
          18.38297278752703,
          18.432935702525306,
          18.325721154053518,
          17.746262131909322,
          17.08722128595411,
          16.73561970930918,
          16.670911021262814,
          16.714573799372086,
          16.743156494961426,
          16.680998177350773,
          16.498920008608778,
          16.285457279516006,
          15.9803107166803,
          15.86023858133748,
          16.070191987954956,
          16.47306319020316,
          16.753694439607784,
          16.702597630768075,
          16.481809746142247,
          16.260432294113002,
          16.163653961997248,
          16.180603279743742,
          16.266996492191097,
          16.50510872125881,
          16.621875743023406,
          16.877240902424038,
          17.48585691222454,
          17.984943931296584,
          18.61175436205903,
          19.40339775413001,
          20.00655418240506,
          20.814555787026215,
          21.91495058657317,
          22.875963247703574,
          23.51692740965589,
          23.701171599096085,
          23.79752426542957,
          23.956563530770758,
          24.089711725256898,
          24.2267239735029,
          24.649276541992236,
          25.196737945418437,
          25.765642847801274,
          26.48194810629391,
          27.16909101816524,
          28.452400238557786,
          29.73783193174678,
          30.647600728464703,
          31.541329650143517,
          31.73762476794226,
          32.08737012061616,
          32.69818152817952,
          32.7412295899732,
          32.88073140581944,
          33.574316994988116,
          34.504401100254654,
          35.667245562522446,
          36.38578750429595,
          36.48400781946495,
          36.86412617547627,
          37.07960150503624,
          37.55496728994215,
          37.7745074962404,
          37.46747161821685,
          37.00968372900251,
          36.23171292603464,
          35.71234850441566,
          35.58032807390663,
          35.87312158294817,
          36.38424327123891,
          36.67880877270603,
          36.47541635370051,
          36.16955137771106,
          35.438052445113264,
          34.69714003091319,
          34.61394445289656,
          34.412641514397734,
          34.90724993905771,
          35.90204664783671,
          36.19077457924727,
          36.83643223246183,
          36.6652987376322,
          35.91841832672398,
          35.5422263447636,
          35.17173397727211,
          35.492837823309856,
          35.38589091376005,
          34.839102150021866,
          34.349324997924725,
          33.537460538553546,
          32.94288201564746,
          32.72127452666081,
          32.45128430978778,
          32.19380523946074,
          32.12760308633114,
          31.88965757665956,
          31.41100971370146,
          31.016707922803512,
          31.33814913530366,
          32.214927086204376,
          33.143074212164805,
          33.65725535578049,
          33.95030674575331,
          34.238867028670306,
          34.92746197684618,
          35.6353315395659,
          36.2174731764213,
          36.84196689386742,
          37.505475199024396,
          38.51045352388289,
          38.54741679105847,
          38.687116988440195,
          39.06165351295465,
          38.764651565518506,
          38.2957951107852,
          37.42995798888999,
          36.37193696043741,
          35.55622332551621,
          34.847971199465,
          34.07246767671172,
          33.60904775910502,
          33.3589542568555,
          32.923785245025286,
          32.51923434222973,
          32.272773413497575,
          32.32616406537262,
          32.131897222382335,
          31.801701628190997,
          32.112719581040906,
          32.449107339831016,
          32.560700210437744,
          33.2048723919792,
          34.39008489903887,
          35.34239712142296,
          36.50984000534122,
          37.68000666904695,
          38.44439875645745,
          37.995382665867226,
          37.52954639888665,
          39.140892153491066,
          40.09821926805746,
          40.53545002589756,
          40.88633115672911,
          40.861097138354424,
          41.2665727287653,
          41.5463701138792,
          40.880834208705174,
          40.161009042585896,
          39.796915155935125,
          39.80594786054276,
          39.355319622405275,
          38.148518974414394,
          37.62129419627832,
          37.55142051132107,
          37.36386199473492,
          36.676749902330165,
          35.997422120957964,
          35.078336652681585,
          34.14498871155122,
          32.37394083230728,
          30.762030842377655,
          29.298291931685633,
          27.901077749699,
          26.618783805477033,
          25.569440605585655,
          25.175195486040547,
          25.042355565422366,
          25.050508777691114,
          24.95270476553477,
          25.024992030746343,
          26.164383094436722,
          27.019824361026423,
          27.68777297855813,
          27.957444700841144,
          28.29154992511157,
          28.330807387608697,
          27.64284774011036,
          26.808981665089156,
          26.62295400134026,
          27.730860411819506,
          28.414734862924696,
          29.357208778471488,
          30.029572873707142,
          30.6675674909937,
          32.11895310370129,
          33.091802921950546,
          34.16943568876979,
          35.07084132146602,
          36.732663903091506,
          37.98859097088622,
          38.845445527330156,
          39.69390290348069,
          41.07959285734043,
          42.05283886259552,
          42.55970679532856,
          43.90373885701071,
          45.782224147341175,
          46.36225837089884,
          46.242803695114,
          46.27347685639657,
          45.47893027196508,
          44.78776168163913,
          44.80702435585383,
          45.503645672575814,
          46.22582799160893,
          46.00104976357247,
          46.06066532022615,
          46.17426447406403,
          47.18498514495039,
          47.89544953608345,
          46.292937158409046,
          43.191658320664054,
          40.368887571473024,
          38.927561252692996,
          38.3943978716795,
          38.33312347528104,
          39.33265845151903,
          40.61143937650053,
          41.36563656523713,
          42.24011198878289,
          44.928209478311274,
          45.46979361024909,
          44.58152636785123,
          42.55491418968248,
          38.044356449813144,
          34.434142019780566,
          31.854289214623208,
          28.707165285760645,
          25.624120500286367,
          22.621498076923753,
          20.249651642640213,
          18.000343888516007,
          16.441144334744262,
          14.92299268416436,
          13.914574009397004,
          13.265497546639425,
          12.875309211485128,
          12.666120220382055,
          12.544733436398914,
          12.485025713727488,
          12.185732399269682,
          11.62700164866143,
          10.846417635715,
          9.864682499441859,
          8.69120965568137,
          7.716785581707361,
          6.8667740604036975,
          6.257242334742994,
          5.851770564321385,
          5.565368834607176,
          5.357597522774789,
          5.185968637759666,
          5.0691904656144455,
          4.982526329474224,
          4.908015229216092,
          4.831941203835102,
          4.776351373168074,
          4.727398870337835,
          4.685897063934101,
          4.657229558460001,
          4.622851661331901,
          4.578980126675715,
          4.528967561833287,
          4.4877831684302425,
          4.451778557070361,
          4.405089559925731,
          4.37294975733649,
          4.341302010889127,
          4.299077311656473,
          4.255710165565087,
          4.2214119842665525,
          4.19161179581388,
          4.159342948535956,
          4.130518520527939,
          4.1201035749983985
         ],
         "yaxis": "y"
        }
       ],
       "layout": {
        "legend": {
         "title": {
          "text": "Signal Type"
         },
         "tracegroupgap": 0
        },
        "template": {
         "data": {
          "bar": [
           {
            "error_x": {
             "color": "#2a3f5f"
            },
            "error_y": {
             "color": "#2a3f5f"
            },
            "marker": {
             "line": {
              "color": "#E5ECF6",
              "width": 0.5
             },
             "pattern": {
              "fillmode": "overlay",
              "size": 10,
              "solidity": 0.2
             }
            },
            "type": "bar"
           }
          ],
          "barpolar": [
           {
            "marker": {
             "line": {
              "color": "#E5ECF6",
              "width": 0.5
             },
             "pattern": {
              "fillmode": "overlay",
              "size": 10,
              "solidity": 0.2
             }
            },
            "type": "barpolar"
           }
          ],
          "carpet": [
           {
            "aaxis": {
             "endlinecolor": "#2a3f5f",
             "gridcolor": "white",
             "linecolor": "white",
             "minorgridcolor": "white",
             "startlinecolor": "#2a3f5f"
            },
            "baxis": {
             "endlinecolor": "#2a3f5f",
             "gridcolor": "white",
             "linecolor": "white",
             "minorgridcolor": "white",
             "startlinecolor": "#2a3f5f"
            },
            "type": "carpet"
           }
          ],
          "choropleth": [
           {
            "colorbar": {
             "outlinewidth": 0,
             "ticks": ""
            },
            "type": "choropleth"
           }
          ],
          "contour": [
           {
            "colorbar": {
             "outlinewidth": 0,
             "ticks": ""
            },
            "colorscale": [
             [
              0,
              "#0d0887"
             ],
             [
              0.1111111111111111,
              "#46039f"
             ],
             [
              0.2222222222222222,
              "#7201a8"
             ],
             [
              0.3333333333333333,
              "#9c179e"
             ],
             [
              0.4444444444444444,
              "#bd3786"
             ],
             [
              0.5555555555555556,
              "#d8576b"
             ],
             [
              0.6666666666666666,
              "#ed7953"
             ],
             [
              0.7777777777777778,
              "#fb9f3a"
             ],
             [
              0.8888888888888888,
              "#fdca26"
             ],
             [
              1,
              "#f0f921"
             ]
            ],
            "type": "contour"
           }
          ],
          "contourcarpet": [
           {
            "colorbar": {
             "outlinewidth": 0,
             "ticks": ""
            },
            "type": "contourcarpet"
           }
          ],
          "heatmap": [
           {
            "colorbar": {
             "outlinewidth": 0,
             "ticks": ""
            },
            "colorscale": [
             [
              0,
              "#0d0887"
             ],
             [
              0.1111111111111111,
              "#46039f"
             ],
             [
              0.2222222222222222,
              "#7201a8"
             ],
             [
              0.3333333333333333,
              "#9c179e"
             ],
             [
              0.4444444444444444,
              "#bd3786"
             ],
             [
              0.5555555555555556,
              "#d8576b"
             ],
             [
              0.6666666666666666,
              "#ed7953"
             ],
             [
              0.7777777777777778,
              "#fb9f3a"
             ],
             [
              0.8888888888888888,
              "#fdca26"
             ],
             [
              1,
              "#f0f921"
             ]
            ],
            "type": "heatmap"
           }
          ],
          "heatmapgl": [
           {
            "colorbar": {
             "outlinewidth": 0,
             "ticks": ""
            },
            "colorscale": [
             [
              0,
              "#0d0887"
             ],
             [
              0.1111111111111111,
              "#46039f"
             ],
             [
              0.2222222222222222,
              "#7201a8"
             ],
             [
              0.3333333333333333,
              "#9c179e"
             ],
             [
              0.4444444444444444,
              "#bd3786"
             ],
             [
              0.5555555555555556,
              "#d8576b"
             ],
             [
              0.6666666666666666,
              "#ed7953"
             ],
             [
              0.7777777777777778,
              "#fb9f3a"
             ],
             [
              0.8888888888888888,
              "#fdca26"
             ],
             [
              1,
              "#f0f921"
             ]
            ],
            "type": "heatmapgl"
           }
          ],
          "histogram": [
           {
            "marker": {
             "pattern": {
              "fillmode": "overlay",
              "size": 10,
              "solidity": 0.2
             }
            },
            "type": "histogram"
           }
          ],
          "histogram2d": [
           {
            "colorbar": {
             "outlinewidth": 0,
             "ticks": ""
            },
            "colorscale": [
             [
              0,
              "#0d0887"
             ],
             [
              0.1111111111111111,
              "#46039f"
             ],
             [
              0.2222222222222222,
              "#7201a8"
             ],
             [
              0.3333333333333333,
              "#9c179e"
             ],
             [
              0.4444444444444444,
              "#bd3786"
             ],
             [
              0.5555555555555556,
              "#d8576b"
             ],
             [
              0.6666666666666666,
              "#ed7953"
             ],
             [
              0.7777777777777778,
              "#fb9f3a"
             ],
             [
              0.8888888888888888,
              "#fdca26"
             ],
             [
              1,
              "#f0f921"
             ]
            ],
            "type": "histogram2d"
           }
          ],
          "histogram2dcontour": [
           {
            "colorbar": {
             "outlinewidth": 0,
             "ticks": ""
            },
            "colorscale": [
             [
              0,
              "#0d0887"
             ],
             [
              0.1111111111111111,
              "#46039f"
             ],
             [
              0.2222222222222222,
              "#7201a8"
             ],
             [
              0.3333333333333333,
              "#9c179e"
             ],
             [
              0.4444444444444444,
              "#bd3786"
             ],
             [
              0.5555555555555556,
              "#d8576b"
             ],
             [
              0.6666666666666666,
              "#ed7953"
             ],
             [
              0.7777777777777778,
              "#fb9f3a"
             ],
             [
              0.8888888888888888,
              "#fdca26"
             ],
             [
              1,
              "#f0f921"
             ]
            ],
            "type": "histogram2dcontour"
           }
          ],
          "mesh3d": [
           {
            "colorbar": {
             "outlinewidth": 0,
             "ticks": ""
            },
            "type": "mesh3d"
           }
          ],
          "parcoords": [
           {
            "line": {
             "colorbar": {
              "outlinewidth": 0,
              "ticks": ""
             }
            },
            "type": "parcoords"
           }
          ],
          "pie": [
           {
            "automargin": true,
            "type": "pie"
           }
          ],
          "scatter": [
           {
            "fillpattern": {
             "fillmode": "overlay",
             "size": 10,
             "solidity": 0.2
            },
            "type": "scatter"
           }
          ],
          "scatter3d": [
           {
            "line": {
             "colorbar": {
              "outlinewidth": 0,
              "ticks": ""
             }
            },
            "marker": {
             "colorbar": {
              "outlinewidth": 0,
              "ticks": ""
             }
            },
            "type": "scatter3d"
           }
          ],
          "scattercarpet": [
           {
            "marker": {
             "colorbar": {
              "outlinewidth": 0,
              "ticks": ""
             }
            },
            "type": "scattercarpet"
           }
          ],
          "scattergeo": [
           {
            "marker": {
             "colorbar": {
              "outlinewidth": 0,
              "ticks": ""
             }
            },
            "type": "scattergeo"
           }
          ],
          "scattergl": [
           {
            "marker": {
             "colorbar": {
              "outlinewidth": 0,
              "ticks": ""
             }
            },
            "type": "scattergl"
           }
          ],
          "scattermapbox": [
           {
            "marker": {
             "colorbar": {
              "outlinewidth": 0,
              "ticks": ""
             }
            },
            "type": "scattermapbox"
           }
          ],
          "scatterpolar": [
           {
            "marker": {
             "colorbar": {
              "outlinewidth": 0,
              "ticks": ""
             }
            },
            "type": "scatterpolar"
           }
          ],
          "scatterpolargl": [
           {
            "marker": {
             "colorbar": {
              "outlinewidth": 0,
              "ticks": ""
             }
            },
            "type": "scatterpolargl"
           }
          ],
          "scatterternary": [
           {
            "marker": {
             "colorbar": {
              "outlinewidth": 0,
              "ticks": ""
             }
            },
            "type": "scatterternary"
           }
          ],
          "surface": [
           {
            "colorbar": {
             "outlinewidth": 0,
             "ticks": ""
            },
            "colorscale": [
             [
              0,
              "#0d0887"
             ],
             [
              0.1111111111111111,
              "#46039f"
             ],
             [
              0.2222222222222222,
              "#7201a8"
             ],
             [
              0.3333333333333333,
              "#9c179e"
             ],
             [
              0.4444444444444444,
              "#bd3786"
             ],
             [
              0.5555555555555556,
              "#d8576b"
             ],
             [
              0.6666666666666666,
              "#ed7953"
             ],
             [
              0.7777777777777778,
              "#fb9f3a"
             ],
             [
              0.8888888888888888,
              "#fdca26"
             ],
             [
              1,
              "#f0f921"
             ]
            ],
            "type": "surface"
           }
          ],
          "table": [
           {
            "cells": {
             "fill": {
              "color": "#EBF0F8"
             },
             "line": {
              "color": "white"
             }
            },
            "header": {
             "fill": {
              "color": "#C8D4E3"
             },
             "line": {
              "color": "white"
             }
            },
            "type": "table"
           }
          ]
         },
         "layout": {
          "annotationdefaults": {
           "arrowcolor": "#2a3f5f",
           "arrowhead": 0,
           "arrowwidth": 1
          },
          "autotypenumbers": "strict",
          "coloraxis": {
           "colorbar": {
            "outlinewidth": 0,
            "ticks": ""
           }
          },
          "colorscale": {
           "diverging": [
            [
             0,
             "#8e0152"
            ],
            [
             0.1,
             "#c51b7d"
            ],
            [
             0.2,
             "#de77ae"
            ],
            [
             0.3,
             "#f1b6da"
            ],
            [
             0.4,
             "#fde0ef"
            ],
            [
             0.5,
             "#f7f7f7"
            ],
            [
             0.6,
             "#e6f5d0"
            ],
            [
             0.7,
             "#b8e186"
            ],
            [
             0.8,
             "#7fbc41"
            ],
            [
             0.9,
             "#4d9221"
            ],
            [
             1,
             "#276419"
            ]
           ],
           "sequential": [
            [
             0,
             "#0d0887"
            ],
            [
             0.1111111111111111,
             "#46039f"
            ],
            [
             0.2222222222222222,
             "#7201a8"
            ],
            [
             0.3333333333333333,
             "#9c179e"
            ],
            [
             0.4444444444444444,
             "#bd3786"
            ],
            [
             0.5555555555555556,
             "#d8576b"
            ],
            [
             0.6666666666666666,
             "#ed7953"
            ],
            [
             0.7777777777777778,
             "#fb9f3a"
            ],
            [
             0.8888888888888888,
             "#fdca26"
            ],
            [
             1,
             "#f0f921"
            ]
           ],
           "sequentialminus": [
            [
             0,
             "#0d0887"
            ],
            [
             0.1111111111111111,
             "#46039f"
            ],
            [
             0.2222222222222222,
             "#7201a8"
            ],
            [
             0.3333333333333333,
             "#9c179e"
            ],
            [
             0.4444444444444444,
             "#bd3786"
            ],
            [
             0.5555555555555556,
             "#d8576b"
            ],
            [
             0.6666666666666666,
             "#ed7953"
            ],
            [
             0.7777777777777778,
             "#fb9f3a"
            ],
            [
             0.8888888888888888,
             "#fdca26"
            ],
            [
             1,
             "#f0f921"
            ]
           ]
          },
          "colorway": [
           "#636efa",
           "#EF553B",
           "#00cc96",
           "#ab63fa",
           "#FFA15A",
           "#19d3f3",
           "#FF6692",
           "#B6E880",
           "#FF97FF",
           "#FECB52"
          ],
          "font": {
           "color": "#2a3f5f"
          },
          "geo": {
           "bgcolor": "white",
           "lakecolor": "white",
           "landcolor": "#E5ECF6",
           "showlakes": true,
           "showland": true,
           "subunitcolor": "white"
          },
          "hoverlabel": {
           "align": "left"
          },
          "hovermode": "closest",
          "mapbox": {
           "style": "light"
          },
          "paper_bgcolor": "white",
          "plot_bgcolor": "#E5ECF6",
          "polar": {
           "angularaxis": {
            "gridcolor": "white",
            "linecolor": "white",
            "ticks": ""
           },
           "bgcolor": "#E5ECF6",
           "radialaxis": {
            "gridcolor": "white",
            "linecolor": "white",
            "ticks": ""
           }
          },
          "scene": {
           "xaxis": {
            "backgroundcolor": "#E5ECF6",
            "gridcolor": "white",
            "gridwidth": 2,
            "linecolor": "white",
            "showbackground": true,
            "ticks": "",
            "zerolinecolor": "white"
           },
           "yaxis": {
            "backgroundcolor": "#E5ECF6",
            "gridcolor": "white",
            "gridwidth": 2,
            "linecolor": "white",
            "showbackground": true,
            "ticks": "",
            "zerolinecolor": "white"
           },
           "zaxis": {
            "backgroundcolor": "#E5ECF6",
            "gridcolor": "white",
            "gridwidth": 2,
            "linecolor": "white",
            "showbackground": true,
            "ticks": "",
            "zerolinecolor": "white"
           }
          },
          "shapedefaults": {
           "line": {
            "color": "#2a3f5f"
           }
          },
          "ternary": {
           "aaxis": {
            "gridcolor": "white",
            "linecolor": "white",
            "ticks": ""
           },
           "baxis": {
            "gridcolor": "white",
            "linecolor": "white",
            "ticks": ""
           },
           "bgcolor": "#E5ECF6",
           "caxis": {
            "gridcolor": "white",
            "linecolor": "white",
            "ticks": ""
           }
          },
          "title": {
           "x": 0.05
          },
          "xaxis": {
           "automargin": true,
           "gridcolor": "white",
           "linecolor": "white",
           "ticks": "",
           "title": {
            "standoff": 15
           },
           "zerolinecolor": "white",
           "zerolinewidth": 2
          },
          "yaxis": {
           "automargin": true,
           "gridcolor": "white",
           "linecolor": "white",
           "ticks": "",
           "title": {
            "standoff": 15
           },
           "zerolinecolor": "white",
           "zerolinewidth": 2
          }
         }
        },
        "title": {
         "text": "Original vs Reconstructed Arabica Spectra"
        },
        "xaxis": {
         "anchor": "y",
         "domain": [
          0,
          1
         ],
         "title": {
          "text": "Wavelength"
         }
        },
        "yaxis": {
         "anchor": "x",
         "domain": [
          0,
          1
         ],
         "title": {
          "text": "Signal"
         }
        }
       }
      }
     },
     "metadata": {},
     "output_type": "display_data"
    }
   ],
   "source": [
    "# plotting arabica spectra\n",
    "arabica_df = pd.DataFrame()\n",
    "arabica_df['Wavelength'] = list(data_df.iloc[0,:]) * 2\n",
    "arabica_df['Signal'] = list(data_df.iloc[1,:]) + list(arabica_row)\n",
    "arabica_df['Signal Type'] = ['Original'] * 286 + ['Reconstructed'] * 286\n",
    "fig4 = px.line(\n",
    "    arabica_df,\n",
    "    x = 'Wavelength',\n",
    "    y = 'Signal',\n",
    "    color = 'Signal Type',\n",
    "    title = 'Original vs Reconstructed Arabica Spectra'\n",
    ")\n",
    "fig4.show()"
   ]
  },
  {
   "cell_type": "code",
   "execution_count": 11,
   "metadata": {},
   "outputs": [
    {
     "data": {
      "application/vnd.plotly.v1+json": {
       "config": {
        "plotlyServerURL": "https://plot.ly"
       },
       "data": [
        {
         "hovertemplate": "Signal Type=Original<br>Wavelength=%{x}<br>Signal=%{y}<extra></extra>",
         "legendgroup": "Original",
         "line": {
          "color": "#636efa",
          "dash": "solid"
         },
         "marker": {
          "symbol": "circle"
         },
         "mode": "lines",
         "name": "Original",
         "orientation": "v",
         "showlegend": true,
         "type": "scatter",
         "x": [
          810.548,
          814.408,
          818.268,
          822.128,
          825.988,
          829.8480000000001,
          833.7080000000001,
          837.568,
          841.428,
          845.288,
          849.148,
          853.008,
          856.867,
          860.727,
          864.587,
          868.447,
          872.307,
          876.1669999999999,
          880.0269999999999,
          883.887,
          887.747,
          891.607,
          895.467,
          899.327,
          903.187,
          907.047,
          910.907,
          914.767,
          918.627,
          922.487,
          926.347,
          930.207,
          934.067,
          937.927,
          941.787,
          945.647,
          949.507,
          953.367,
          957.227,
          961.087,
          964.947,
          968.807,
          972.667,
          976.527,
          980.387,
          984.247,
          988.107,
          991.967,
          995.827,
          999.687,
          1003.547,
          1007.407,
          1011.267,
          1015.127,
          1018.987,
          1022.847,
          1026.707,
          1030.567,
          1034.427,
          1038.287,
          1042.147,
          1046.007,
          1049.867,
          1053.727,
          1057.587,
          1061.447,
          1065.307,
          1069.167,
          1073.027,
          1076.887,
          1080.747,
          1084.607,
          1088.467,
          1092.327,
          1096.187,
          1100.047,
          1103.907,
          1107.767,
          1111.627,
          1115.487,
          1119.347,
          1123.207,
          1127.067,
          1130.927,
          1134.786,
          1138.646,
          1142.506,
          1146.366,
          1150.226,
          1154.086,
          1157.946,
          1161.806,
          1165.6660000000002,
          1169.526,
          1173.386,
          1177.246,
          1181.106,
          1184.966,
          1188.826,
          1192.686,
          1196.546,
          1200.406,
          1204.266,
          1208.126,
          1211.986,
          1215.846,
          1219.706,
          1223.566,
          1227.4260000000002,
          1231.286,
          1235.146,
          1239.006,
          1242.866,
          1246.726,
          1250.586,
          1254.446,
          1258.306,
          1262.1660000000002,
          1266.026,
          1269.886,
          1273.746,
          1277.606,
          1281.466,
          1285.326,
          1289.186,
          1293.046,
          1296.906,
          1300.766,
          1304.626,
          1308.486,
          1312.346,
          1316.206,
          1320.066,
          1323.9260000000002,
          1327.786,
          1331.646,
          1335.506,
          1339.366,
          1343.226,
          1347.086,
          1350.946,
          1354.806,
          1358.6660000000002,
          1362.526,
          1366.386,
          1370.246,
          1374.106,
          1377.966,
          1381.826,
          1385.686,
          1389.545,
          1393.405,
          1397.265,
          1401.125,
          1404.985,
          1408.845,
          1412.705,
          1416.565,
          1420.425,
          1424.285,
          1428.145,
          1432.005,
          1435.865,
          1439.725,
          1443.585,
          1447.445,
          1451.305,
          1455.165,
          1459.025,
          1462.885,
          1466.745,
          1470.605,
          1474.465,
          1478.325,
          1482.185,
          1486.045,
          1489.905,
          1493.765,
          1497.625,
          1501.485,
          1505.345,
          1509.205,
          1513.065,
          1516.925,
          1520.785,
          1524.645,
          1528.505,
          1532.365,
          1536.225,
          1540.085,
          1543.945,
          1547.805,
          1551.665,
          1555.525,
          1559.385,
          1563.245,
          1567.105,
          1570.965,
          1574.825,
          1578.685,
          1582.545,
          1586.405,
          1590.265,
          1594.125,
          1597.985,
          1601.845,
          1605.705,
          1609.565,
          1613.425,
          1617.285,
          1621.145,
          1625.005,
          1628.865,
          1632.725,
          1636.585,
          1640.445,
          1644.304,
          1648.164,
          1652.024,
          1655.884,
          1659.744,
          1663.604,
          1667.464,
          1671.3239999999998,
          1675.184,
          1679.044,
          1682.904,
          1686.764,
          1690.624,
          1694.484,
          1698.344,
          1702.204,
          1706.064,
          1709.924,
          1713.784,
          1717.644,
          1721.504,
          1725.364,
          1729.224,
          1733.0839999999998,
          1736.944,
          1740.804,
          1744.664,
          1748.524,
          1752.384,
          1756.244,
          1760.104,
          1763.964,
          1767.8239999999998,
          1771.684,
          1775.544,
          1779.404,
          1783.264,
          1787.124,
          1790.984,
          1794.844,
          1798.704,
          1802.564,
          1806.424,
          1810.284,
          1814.144,
          1818.004,
          1821.864,
          1825.724,
          1829.584,
          1833.444,
          1837.304,
          1841.164,
          1845.024,
          1848.884,
          1852.744,
          1856.604,
          1860.464,
          1864.324,
          1868.184,
          1872.044,
          1875.904,
          1879.764,
          1883.624,
          1887.484,
          1891.344,
          1895.204,
          1899.064,
          1902.924,
          1906.784,
          1910.644
         ],
         "xaxis": "x",
         "y": [
          10.91880607,
          11.37172994,
          11.27420943,
          10.79297126,
          9.99784716,
          9.21840518,
          8.765989287,
          8.565106572000001,
          8.443501381,
          8.34333815,
          8.292652002999999,
          8.368342224,
          8.473230453,
          8.361919082,
          8.101378812,
          7.922874238999999,
          7.859461456,
          7.851906917000001,
          7.815660245,
          7.777081511,
          7.852414891,
          7.803143515,
          7.622915609,
          7.464960892000001,
          7.298792531,
          7.313215212999999,
          7.465380706,
          7.498205900000001,
          7.407215587,
          7.34329273,
          7.377557883,
          7.462769467999999,
          7.526583173,
          7.625044062000001,
          7.636889091,
          7.737766005,
          8.069510792,
          8.309272408,
          8.658292507999999,
          9.070622538,
          9.524980067,
          10.22760463,
          10.9452564,
          11.531387,
          11.98907784,
          12.17635231,
          11.98351952,
          11.96806199,
          12.15356905,
          12.05515014,
          12.26565917,
          12.83128609,
          13.36889258,
          14.34591335,
          15.47430196,
          16.63671643,
          17.97966947,
          19.02738678,
          19.65499912,
          20.48707098,
          21.39163618,
          21.77857591,
          21.81025501,
          21.94776063,
          22.28393864,
          22.32137129,
          22.50844635,
          23.35966379,
          24.05140049,
          24.52482384,
          24.63308737,
          24.51184531,
          24.80754494,
          24.12561717,
          23.22693985,
          22.57288977,
          22.31596409,
          22.31006992,
          22.22123534,
          22.30653089,
          22.36971907,
          22.62143907,
          22.67618481,
          22.53503731,
          22.00306052,
          21.50954702,
          21.4408215,
          21.73847325,
          22.17972212,
          23.07027396,
          23.61541609,
          22.95000797,
          22.345393,
          22.04219341,
          22.07325119,
          21.64551402,
          20.90572759,
          20.79227307,
          20.63947576,
          20.20818277,
          19.4905226,
          18.75384279,
          18.60124279,
          18.6290995,
          18.69043841,
          18.72361205,
          18.436936300000003,
          18.25980872,
          18.59963491,
          19.21349627,
          19.74332361,
          20.48202692,
          21.48083389,
          22.04952335,
          22.16278265,
          22.42310672,
          23.3281778,
          24.48597223,
          24.4260292,
          24.24851119,
          24.32632566,
          24.28210464,
          24.47674053,
          24.97134346,
          24.94160599,
          23.79313981,
          22.92958406,
          22.10003107,
          21.19999985,
          20.76666447,
          20.3103842,
          19.71291864,
          19.24434624,
          19.24965058,
          19.11379903,
          18.58322021,
          18.62770152,
          18.53152022,
          18.34282258,
          18.59005267,
          19.03147366,
          19.79028812,
          20.64964784,
          21.61406791,
          22.45141892,
          23.44395808,
          24.346907,
          24.9793451,
          25.10538351,
          24.73312046,
          24.9889882,
          25.17994863,
          25.05037329,
          25.21606726,
          25.29879985,
          25.2600343,
          24.86954925,
          23.90951413,
          23.38485678,
          22.9308435,
          22.30136719,
          21.80881086,
          21.55243093,
          21.39489393,
          21.21357451,
          21.41526327,
          21.17465573,
          20.2690116,
          19.46328932,
          18.94015799,
          17.89191172,
          16.78859645,
          15.57822252,
          14.46883045,
          13.73779923,
          13.51015552,
          13.66770512,
          13.8172048,
          13.86739557,
          13.87022721,
          13.91108763,
          14.93643519,
          15.9196335,
          16.39402872,
          16.65339771,
          16.45127654,
          15.887268,
          15.47059291,
          15.12772727,
          15.17381436,
          16.34745254,
          17.27631653,
          17.97220099,
          18.65102005,
          19.8631341,
          20.83031025,
          21.32575909,
          22.57481461,
          23.33147963,
          24.51418367,
          26.49936065,
          27.48857909,
          28.15180628,
          29.33629663,
          30.49256084,
          31.22719195,
          31.68303142,
          31.87457959,
          32.74889726,
          33.99230209,
          31.83372127,
          29.93699054,
          28.97531815,
          28.08988593,
          28.54308477,
          30.0496747,
          30.75447599,
          31.61815559,
          32.20689743,
          34.39952509,
          34.52028226,
          32.24714911,
          29.77490486,
          27.66536452,
          25.88350098,
          24.88698619,
          24.25740913,
          24.54871331,
          25.76500871,
          27.53264898,
          30.09408254,
          31.85571109,
          32.45599988,
          30.89982582,
          27.77989166,
          23.55424721,
          20.00940332,
          17.39670217,
          14.89311046,
          13.06520391,
          11.47883898,
          10.23865201,
          8.996596876,
          8.025495477,
          7.224460406,
          6.80346753,
          6.661171846,
          6.694704426,
          6.760703259,
          6.904499775,
          7.100892588,
          7.113768259,
          6.874476834,
          6.357598624,
          5.657312423,
          4.738152413,
          3.984222481,
          3.3718976410000003,
          2.922229425,
          2.613578563,
          2.4080653080000003,
          2.276544129,
          2.175801556,
          2.107577713,
          2.051203097,
          2.006574855,
          1.968168244,
          1.927765422,
          1.891730756,
          1.870553279,
          1.852371169,
          1.83414288,
          1.811609407,
          1.787614983,
          1.7666768,
          1.752581572,
          1.730083782,
          1.705646456,
          1.685696933,
          1.6689358909999998,
          1.6513247269999998,
          1.626583036,
          1.608403025,
          1.601602051,
          1.587624371,
          1.574679431
         ],
         "yaxis": "y"
        },
        {
         "hovertemplate": "Signal Type=Reconstructed<br>Wavelength=%{x}<br>Signal=%{y}<extra></extra>",
         "legendgroup": "Reconstructed",
         "line": {
          "color": "#EF553B",
          "dash": "solid"
         },
         "marker": {
          "symbol": "circle"
         },
         "mode": "lines",
         "name": "Reconstructed",
         "orientation": "v",
         "showlegend": true,
         "type": "scatter",
         "x": [
          810.548,
          814.408,
          818.268,
          822.128,
          825.988,
          829.8480000000001,
          833.7080000000001,
          837.568,
          841.428,
          845.288,
          849.148,
          853.008,
          856.867,
          860.727,
          864.587,
          868.447,
          872.307,
          876.1669999999999,
          880.0269999999999,
          883.887,
          887.747,
          891.607,
          895.467,
          899.327,
          903.187,
          907.047,
          910.907,
          914.767,
          918.627,
          922.487,
          926.347,
          930.207,
          934.067,
          937.927,
          941.787,
          945.647,
          949.507,
          953.367,
          957.227,
          961.087,
          964.947,
          968.807,
          972.667,
          976.527,
          980.387,
          984.247,
          988.107,
          991.967,
          995.827,
          999.687,
          1003.547,
          1007.407,
          1011.267,
          1015.127,
          1018.987,
          1022.847,
          1026.707,
          1030.567,
          1034.427,
          1038.287,
          1042.147,
          1046.007,
          1049.867,
          1053.727,
          1057.587,
          1061.447,
          1065.307,
          1069.167,
          1073.027,
          1076.887,
          1080.747,
          1084.607,
          1088.467,
          1092.327,
          1096.187,
          1100.047,
          1103.907,
          1107.767,
          1111.627,
          1115.487,
          1119.347,
          1123.207,
          1127.067,
          1130.927,
          1134.786,
          1138.646,
          1142.506,
          1146.366,
          1150.226,
          1154.086,
          1157.946,
          1161.806,
          1165.6660000000002,
          1169.526,
          1173.386,
          1177.246,
          1181.106,
          1184.966,
          1188.826,
          1192.686,
          1196.546,
          1200.406,
          1204.266,
          1208.126,
          1211.986,
          1215.846,
          1219.706,
          1223.566,
          1227.4260000000002,
          1231.286,
          1235.146,
          1239.006,
          1242.866,
          1246.726,
          1250.586,
          1254.446,
          1258.306,
          1262.1660000000002,
          1266.026,
          1269.886,
          1273.746,
          1277.606,
          1281.466,
          1285.326,
          1289.186,
          1293.046,
          1296.906,
          1300.766,
          1304.626,
          1308.486,
          1312.346,
          1316.206,
          1320.066,
          1323.9260000000002,
          1327.786,
          1331.646,
          1335.506,
          1339.366,
          1343.226,
          1347.086,
          1350.946,
          1354.806,
          1358.6660000000002,
          1362.526,
          1366.386,
          1370.246,
          1374.106,
          1377.966,
          1381.826,
          1385.686,
          1389.545,
          1393.405,
          1397.265,
          1401.125,
          1404.985,
          1408.845,
          1412.705,
          1416.565,
          1420.425,
          1424.285,
          1428.145,
          1432.005,
          1435.865,
          1439.725,
          1443.585,
          1447.445,
          1451.305,
          1455.165,
          1459.025,
          1462.885,
          1466.745,
          1470.605,
          1474.465,
          1478.325,
          1482.185,
          1486.045,
          1489.905,
          1493.765,
          1497.625,
          1501.485,
          1505.345,
          1509.205,
          1513.065,
          1516.925,
          1520.785,
          1524.645,
          1528.505,
          1532.365,
          1536.225,
          1540.085,
          1543.945,
          1547.805,
          1551.665,
          1555.525,
          1559.385,
          1563.245,
          1567.105,
          1570.965,
          1574.825,
          1578.685,
          1582.545,
          1586.405,
          1590.265,
          1594.125,
          1597.985,
          1601.845,
          1605.705,
          1609.565,
          1613.425,
          1617.285,
          1621.145,
          1625.005,
          1628.865,
          1632.725,
          1636.585,
          1640.445,
          1644.304,
          1648.164,
          1652.024,
          1655.884,
          1659.744,
          1663.604,
          1667.464,
          1671.3239999999998,
          1675.184,
          1679.044,
          1682.904,
          1686.764,
          1690.624,
          1694.484,
          1698.344,
          1702.204,
          1706.064,
          1709.924,
          1713.784,
          1717.644,
          1721.504,
          1725.364,
          1729.224,
          1733.0839999999998,
          1736.944,
          1740.804,
          1744.664,
          1748.524,
          1752.384,
          1756.244,
          1760.104,
          1763.964,
          1767.8239999999998,
          1771.684,
          1775.544,
          1779.404,
          1783.264,
          1787.124,
          1790.984,
          1794.844,
          1798.704,
          1802.564,
          1806.424,
          1810.284,
          1814.144,
          1818.004,
          1821.864,
          1825.724,
          1829.584,
          1833.444,
          1837.304,
          1841.164,
          1845.024,
          1848.884,
          1852.744,
          1856.604,
          1860.464,
          1864.324,
          1868.184,
          1872.044,
          1875.904,
          1879.764,
          1883.624,
          1887.484,
          1891.344,
          1895.204,
          1899.064,
          1902.924,
          1906.784,
          1910.644
         ],
         "xaxis": "x",
         "y": [
          11.192982675067801,
          11.464531420910314,
          11.40711000588123,
          10.961123989465971,
          10.253197087409989,
          9.545225487299994,
          8.924608222002227,
          8.553289411854438,
          8.39310684438571,
          8.322670866510775,
          8.356515117318148,
          8.41688184676838,
          8.398624560894355,
          8.255251334588877,
          8.071964354634417,
          7.9642842590604,
          7.942182526013502,
          7.939276283711741,
          7.942952321813165,
          7.926589345277376,
          7.88059787418531,
          7.784938566794214,
          7.605753760913913,
          7.417291672538316,
          7.246443397211122,
          7.229674951370694,
          7.348491573998772,
          7.3809370920581845,
          7.298761093951738,
          7.160689346659261,
          7.127821012144049,
          7.268687706252002,
          7.402096321238769,
          7.412445882677909,
          7.471316307345765,
          7.658874649806034,
          7.854678188813432,
          8.123984920801004,
          8.570392469750415,
          9.047883896167173,
          9.496981845368367,
          10.031317072386129,
          10.732182220782274,
          11.444311627168243,
          11.93792826071676,
          12.100203816432188,
          11.96164652220415,
          11.92406631801562,
          12.000969086436967,
          12.091657022601494,
          12.409188362573769,
          12.902161873915148,
          13.531433412988873,
          14.42225773081581,
          15.41215827955747,
          16.60275041552038,
          18.064937159238255,
          19.2071465820092,
          19.876332054632975,
          20.319246087007887,
          20.621964226513107,
          21.01114866647275,
          21.383141702976015,
          21.820782877457994,
          22.451515334257703,
          22.694488487555155,
          22.915456735097017,
          23.310952030447158,
          23.57849923214622,
          24.09519370672133,
          24.486726108033714,
          24.58693281939877,
          24.436373145888105,
          24.17913697504423,
          23.76073821141862,
          23.078201894280255,
          22.492729468833925,
          22.124533359217313,
          22.046957765486173,
          22.43372613023575,
          23.103194062047194,
          23.277143928949044,
          23.02056889334937,
          22.461172694485597,
          21.804576567522272,
          21.502832746621923,
          21.442675654156698,
          21.844220503854284,
          22.219050512803477,
          22.405898169129596,
          22.715437021150596,
          22.75017355918187,
          22.48999618376535,
          22.026129693623222,
          21.853995602009967,
          21.682135190037638,
          21.297011751823632,
          21.042154145470498,
          20.573450988076402,
          19.869847643368463,
          19.222969246473944,
          18.632641981059503,
          18.385676544281136,
          18.47448365347901,
          18.56237088816956,
          18.539635554749704,
          18.357611825749782,
          18.253829908512927,
          18.547890886325767,
          19.080046663985815,
          19.775192905054695,
          20.637118649765775,
          21.31525744509788,
          21.658578507808766,
          22.098449831971962,
          22.590469738160184,
          23.01527480648771,
          23.48703880641892,
          23.83460993855805,
          24.176523733576143,
          24.266009497364077,
          24.264872137294333,
          24.344161287566696,
          24.455147187848098,
          24.481994163994113,
          23.88911362538523,
          22.87291288332673,
          21.953128781427104,
          21.297805163422602,
          20.883619250017677,
          20.40833638556162,
          19.965081533327538,
          19.522504961931897,
          19.176808811026305,
          19.035127421881214,
          18.86643269291337,
          18.635612163956075,
          18.475124492840457,
          18.498510928029315,
          18.6887425145819,
          19.09980742672031,
          19.80215606026192,
          20.74679055196429,
          21.854142072263542,
          22.99872189569158,
          23.82914623443065,
          24.453797814890226,
          24.850798355463176,
          24.618705717366566,
          24.38490122906531,
          24.991590077298298,
          25.28421388846758,
          25.23766854280655,
          25.390943299669182,
          25.473859655752516,
          25.374949474951254,
          25.054528359606508,
          24.6823143269472,
          24.04127691205606,
          23.39044910459269,
          22.695399439661397,
          22.173614885839125,
          21.957404515401997,
          21.801460358862997,
          21.61150683679777,
          21.545433050628425,
          21.328091979701366,
          20.88855925123204,
          20.05607334976887,
          19.043149420368334,
          17.909965539728717,
          16.942429499684422,
          15.824232783193088,
          14.75035334867505,
          14.038042106930234,
          13.661544714038428,
          13.704039148547261,
          13.857936199378075,
          13.832286670414653,
          13.779863510560961,
          13.864080810186007,
          14.800421915634825,
          15.73545923172355,
          16.270315574866384,
          16.489636843178744,
          16.291574530975158,
          15.892383746979274,
          15.570485643919767,
          15.36833479205651,
          15.385935756308292,
          16.219339178039053,
          17.1907604296813,
          18.179383170971008,
          19.117725575874317,
          20.039994354911215,
          20.767997957004198,
          21.203936007388975,
          22.18796784310162,
          23.217565565227552,
          24.717222874429346,
          26.042240237073063,
          27.149450289663314,
          28.30519303039273,
          29.347549918081267,
          30.449618346388842,
          31.419239406223873,
          32.046007020536585,
          32.30113349009721,
          32.11930358799971,
          31.954978925596873,
          31.183788038554713,
          30.138037939547726,
          29.557151712570132,
          28.853031355166255,
          28.768535601317698,
          29.90563218316221,
          30.640507803794275,
          31.645291217647898,
          32.61350927450338,
          33.86414440997167,
          33.61454621235598,
          32.45386401646989,
          30.51947753757579,
          28.118188819105498,
          26.3786385735826,
          25.36490287481268,
          24.79316659680609,
          25.14613507860235,
          26.36772971815531,
          27.93753164219867,
          29.435701923260105,
          30.91483132007227,
          32.08847135125602,
          30.872515336430453,
          27.652185914274227,
          23.35951714124815,
          19.939584800317856,
          17.392403567438343,
          15.034781886200237,
          13.147331498294879,
          11.332027168159359,
          10.037169327593734,
          8.761261251611652,
          7.774010630190416,
          7.040960553610829,
          6.635414678236903,
          6.4390701198447164,
          6.434246451228702,
          6.491641820348475,
          6.607621902421711,
          6.736843908189116,
          6.690905851371605,
          6.427177708878561,
          5.896688121914376,
          5.210067707606859,
          4.363178538508777,
          3.668008038616921,
          3.083916266709922,
          2.6718219241477295,
          2.3976126302364213,
          2.2057231302211227,
          2.0861951234133915,
          1.9960970134277318,
          1.9322735939865134,
          1.880479250591833,
          1.8351152009852512,
          1.7940181294416604,
          1.758259094250822,
          1.731028131226649,
          1.7118871562922249,
          1.6882241980615154,
          1.669803913551425,
          1.6533980495068687,
          1.6300148881740273,
          1.608005497865458,
          1.593928090364456,
          1.5753553785496794,
          1.5556843334627968,
          1.534047327315473,
          1.5141532538429736,
          1.4987169615249494,
          1.4822807998399397,
          1.466378364226472,
          1.4544589344235899,
          1.4426965071431501,
          1.430370501480986
         ],
         "yaxis": "y"
        }
       ],
       "layout": {
        "legend": {
         "title": {
          "text": "Signal Type"
         },
         "tracegroupgap": 0
        },
        "template": {
         "data": {
          "bar": [
           {
            "error_x": {
             "color": "#2a3f5f"
            },
            "error_y": {
             "color": "#2a3f5f"
            },
            "marker": {
             "line": {
              "color": "#E5ECF6",
              "width": 0.5
             },
             "pattern": {
              "fillmode": "overlay",
              "size": 10,
              "solidity": 0.2
             }
            },
            "type": "bar"
           }
          ],
          "barpolar": [
           {
            "marker": {
             "line": {
              "color": "#E5ECF6",
              "width": 0.5
             },
             "pattern": {
              "fillmode": "overlay",
              "size": 10,
              "solidity": 0.2
             }
            },
            "type": "barpolar"
           }
          ],
          "carpet": [
           {
            "aaxis": {
             "endlinecolor": "#2a3f5f",
             "gridcolor": "white",
             "linecolor": "white",
             "minorgridcolor": "white",
             "startlinecolor": "#2a3f5f"
            },
            "baxis": {
             "endlinecolor": "#2a3f5f",
             "gridcolor": "white",
             "linecolor": "white",
             "minorgridcolor": "white",
             "startlinecolor": "#2a3f5f"
            },
            "type": "carpet"
           }
          ],
          "choropleth": [
           {
            "colorbar": {
             "outlinewidth": 0,
             "ticks": ""
            },
            "type": "choropleth"
           }
          ],
          "contour": [
           {
            "colorbar": {
             "outlinewidth": 0,
             "ticks": ""
            },
            "colorscale": [
             [
              0,
              "#0d0887"
             ],
             [
              0.1111111111111111,
              "#46039f"
             ],
             [
              0.2222222222222222,
              "#7201a8"
             ],
             [
              0.3333333333333333,
              "#9c179e"
             ],
             [
              0.4444444444444444,
              "#bd3786"
             ],
             [
              0.5555555555555556,
              "#d8576b"
             ],
             [
              0.6666666666666666,
              "#ed7953"
             ],
             [
              0.7777777777777778,
              "#fb9f3a"
             ],
             [
              0.8888888888888888,
              "#fdca26"
             ],
             [
              1,
              "#f0f921"
             ]
            ],
            "type": "contour"
           }
          ],
          "contourcarpet": [
           {
            "colorbar": {
             "outlinewidth": 0,
             "ticks": ""
            },
            "type": "contourcarpet"
           }
          ],
          "heatmap": [
           {
            "colorbar": {
             "outlinewidth": 0,
             "ticks": ""
            },
            "colorscale": [
             [
              0,
              "#0d0887"
             ],
             [
              0.1111111111111111,
              "#46039f"
             ],
             [
              0.2222222222222222,
              "#7201a8"
             ],
             [
              0.3333333333333333,
              "#9c179e"
             ],
             [
              0.4444444444444444,
              "#bd3786"
             ],
             [
              0.5555555555555556,
              "#d8576b"
             ],
             [
              0.6666666666666666,
              "#ed7953"
             ],
             [
              0.7777777777777778,
              "#fb9f3a"
             ],
             [
              0.8888888888888888,
              "#fdca26"
             ],
             [
              1,
              "#f0f921"
             ]
            ],
            "type": "heatmap"
           }
          ],
          "heatmapgl": [
           {
            "colorbar": {
             "outlinewidth": 0,
             "ticks": ""
            },
            "colorscale": [
             [
              0,
              "#0d0887"
             ],
             [
              0.1111111111111111,
              "#46039f"
             ],
             [
              0.2222222222222222,
              "#7201a8"
             ],
             [
              0.3333333333333333,
              "#9c179e"
             ],
             [
              0.4444444444444444,
              "#bd3786"
             ],
             [
              0.5555555555555556,
              "#d8576b"
             ],
             [
              0.6666666666666666,
              "#ed7953"
             ],
             [
              0.7777777777777778,
              "#fb9f3a"
             ],
             [
              0.8888888888888888,
              "#fdca26"
             ],
             [
              1,
              "#f0f921"
             ]
            ],
            "type": "heatmapgl"
           }
          ],
          "histogram": [
           {
            "marker": {
             "pattern": {
              "fillmode": "overlay",
              "size": 10,
              "solidity": 0.2
             }
            },
            "type": "histogram"
           }
          ],
          "histogram2d": [
           {
            "colorbar": {
             "outlinewidth": 0,
             "ticks": ""
            },
            "colorscale": [
             [
              0,
              "#0d0887"
             ],
             [
              0.1111111111111111,
              "#46039f"
             ],
             [
              0.2222222222222222,
              "#7201a8"
             ],
             [
              0.3333333333333333,
              "#9c179e"
             ],
             [
              0.4444444444444444,
              "#bd3786"
             ],
             [
              0.5555555555555556,
              "#d8576b"
             ],
             [
              0.6666666666666666,
              "#ed7953"
             ],
             [
              0.7777777777777778,
              "#fb9f3a"
             ],
             [
              0.8888888888888888,
              "#fdca26"
             ],
             [
              1,
              "#f0f921"
             ]
            ],
            "type": "histogram2d"
           }
          ],
          "histogram2dcontour": [
           {
            "colorbar": {
             "outlinewidth": 0,
             "ticks": ""
            },
            "colorscale": [
             [
              0,
              "#0d0887"
             ],
             [
              0.1111111111111111,
              "#46039f"
             ],
             [
              0.2222222222222222,
              "#7201a8"
             ],
             [
              0.3333333333333333,
              "#9c179e"
             ],
             [
              0.4444444444444444,
              "#bd3786"
             ],
             [
              0.5555555555555556,
              "#d8576b"
             ],
             [
              0.6666666666666666,
              "#ed7953"
             ],
             [
              0.7777777777777778,
              "#fb9f3a"
             ],
             [
              0.8888888888888888,
              "#fdca26"
             ],
             [
              1,
              "#f0f921"
             ]
            ],
            "type": "histogram2dcontour"
           }
          ],
          "mesh3d": [
           {
            "colorbar": {
             "outlinewidth": 0,
             "ticks": ""
            },
            "type": "mesh3d"
           }
          ],
          "parcoords": [
           {
            "line": {
             "colorbar": {
              "outlinewidth": 0,
              "ticks": ""
             }
            },
            "type": "parcoords"
           }
          ],
          "pie": [
           {
            "automargin": true,
            "type": "pie"
           }
          ],
          "scatter": [
           {
            "fillpattern": {
             "fillmode": "overlay",
             "size": 10,
             "solidity": 0.2
            },
            "type": "scatter"
           }
          ],
          "scatter3d": [
           {
            "line": {
             "colorbar": {
              "outlinewidth": 0,
              "ticks": ""
             }
            },
            "marker": {
             "colorbar": {
              "outlinewidth": 0,
              "ticks": ""
             }
            },
            "type": "scatter3d"
           }
          ],
          "scattercarpet": [
           {
            "marker": {
             "colorbar": {
              "outlinewidth": 0,
              "ticks": ""
             }
            },
            "type": "scattercarpet"
           }
          ],
          "scattergeo": [
           {
            "marker": {
             "colorbar": {
              "outlinewidth": 0,
              "ticks": ""
             }
            },
            "type": "scattergeo"
           }
          ],
          "scattergl": [
           {
            "marker": {
             "colorbar": {
              "outlinewidth": 0,
              "ticks": ""
             }
            },
            "type": "scattergl"
           }
          ],
          "scattermapbox": [
           {
            "marker": {
             "colorbar": {
              "outlinewidth": 0,
              "ticks": ""
             }
            },
            "type": "scattermapbox"
           }
          ],
          "scatterpolar": [
           {
            "marker": {
             "colorbar": {
              "outlinewidth": 0,
              "ticks": ""
             }
            },
            "type": "scatterpolar"
           }
          ],
          "scatterpolargl": [
           {
            "marker": {
             "colorbar": {
              "outlinewidth": 0,
              "ticks": ""
             }
            },
            "type": "scatterpolargl"
           }
          ],
          "scatterternary": [
           {
            "marker": {
             "colorbar": {
              "outlinewidth": 0,
              "ticks": ""
             }
            },
            "type": "scatterternary"
           }
          ],
          "surface": [
           {
            "colorbar": {
             "outlinewidth": 0,
             "ticks": ""
            },
            "colorscale": [
             [
              0,
              "#0d0887"
             ],
             [
              0.1111111111111111,
              "#46039f"
             ],
             [
              0.2222222222222222,
              "#7201a8"
             ],
             [
              0.3333333333333333,
              "#9c179e"
             ],
             [
              0.4444444444444444,
              "#bd3786"
             ],
             [
              0.5555555555555556,
              "#d8576b"
             ],
             [
              0.6666666666666666,
              "#ed7953"
             ],
             [
              0.7777777777777778,
              "#fb9f3a"
             ],
             [
              0.8888888888888888,
              "#fdca26"
             ],
             [
              1,
              "#f0f921"
             ]
            ],
            "type": "surface"
           }
          ],
          "table": [
           {
            "cells": {
             "fill": {
              "color": "#EBF0F8"
             },
             "line": {
              "color": "white"
             }
            },
            "header": {
             "fill": {
              "color": "#C8D4E3"
             },
             "line": {
              "color": "white"
             }
            },
            "type": "table"
           }
          ]
         },
         "layout": {
          "annotationdefaults": {
           "arrowcolor": "#2a3f5f",
           "arrowhead": 0,
           "arrowwidth": 1
          },
          "autotypenumbers": "strict",
          "coloraxis": {
           "colorbar": {
            "outlinewidth": 0,
            "ticks": ""
           }
          },
          "colorscale": {
           "diverging": [
            [
             0,
             "#8e0152"
            ],
            [
             0.1,
             "#c51b7d"
            ],
            [
             0.2,
             "#de77ae"
            ],
            [
             0.3,
             "#f1b6da"
            ],
            [
             0.4,
             "#fde0ef"
            ],
            [
             0.5,
             "#f7f7f7"
            ],
            [
             0.6,
             "#e6f5d0"
            ],
            [
             0.7,
             "#b8e186"
            ],
            [
             0.8,
             "#7fbc41"
            ],
            [
             0.9,
             "#4d9221"
            ],
            [
             1,
             "#276419"
            ]
           ],
           "sequential": [
            [
             0,
             "#0d0887"
            ],
            [
             0.1111111111111111,
             "#46039f"
            ],
            [
             0.2222222222222222,
             "#7201a8"
            ],
            [
             0.3333333333333333,
             "#9c179e"
            ],
            [
             0.4444444444444444,
             "#bd3786"
            ],
            [
             0.5555555555555556,
             "#d8576b"
            ],
            [
             0.6666666666666666,
             "#ed7953"
            ],
            [
             0.7777777777777778,
             "#fb9f3a"
            ],
            [
             0.8888888888888888,
             "#fdca26"
            ],
            [
             1,
             "#f0f921"
            ]
           ],
           "sequentialminus": [
            [
             0,
             "#0d0887"
            ],
            [
             0.1111111111111111,
             "#46039f"
            ],
            [
             0.2222222222222222,
             "#7201a8"
            ],
            [
             0.3333333333333333,
             "#9c179e"
            ],
            [
             0.4444444444444444,
             "#bd3786"
            ],
            [
             0.5555555555555556,
             "#d8576b"
            ],
            [
             0.6666666666666666,
             "#ed7953"
            ],
            [
             0.7777777777777778,
             "#fb9f3a"
            ],
            [
             0.8888888888888888,
             "#fdca26"
            ],
            [
             1,
             "#f0f921"
            ]
           ]
          },
          "colorway": [
           "#636efa",
           "#EF553B",
           "#00cc96",
           "#ab63fa",
           "#FFA15A",
           "#19d3f3",
           "#FF6692",
           "#B6E880",
           "#FF97FF",
           "#FECB52"
          ],
          "font": {
           "color": "#2a3f5f"
          },
          "geo": {
           "bgcolor": "white",
           "lakecolor": "white",
           "landcolor": "#E5ECF6",
           "showlakes": true,
           "showland": true,
           "subunitcolor": "white"
          },
          "hoverlabel": {
           "align": "left"
          },
          "hovermode": "closest",
          "mapbox": {
           "style": "light"
          },
          "paper_bgcolor": "white",
          "plot_bgcolor": "#E5ECF6",
          "polar": {
           "angularaxis": {
            "gridcolor": "white",
            "linecolor": "white",
            "ticks": ""
           },
           "bgcolor": "#E5ECF6",
           "radialaxis": {
            "gridcolor": "white",
            "linecolor": "white",
            "ticks": ""
           }
          },
          "scene": {
           "xaxis": {
            "backgroundcolor": "#E5ECF6",
            "gridcolor": "white",
            "gridwidth": 2,
            "linecolor": "white",
            "showbackground": true,
            "ticks": "",
            "zerolinecolor": "white"
           },
           "yaxis": {
            "backgroundcolor": "#E5ECF6",
            "gridcolor": "white",
            "gridwidth": 2,
            "linecolor": "white",
            "showbackground": true,
            "ticks": "",
            "zerolinecolor": "white"
           },
           "zaxis": {
            "backgroundcolor": "#E5ECF6",
            "gridcolor": "white",
            "gridwidth": 2,
            "linecolor": "white",
            "showbackground": true,
            "ticks": "",
            "zerolinecolor": "white"
           }
          },
          "shapedefaults": {
           "line": {
            "color": "#2a3f5f"
           }
          },
          "ternary": {
           "aaxis": {
            "gridcolor": "white",
            "linecolor": "white",
            "ticks": ""
           },
           "baxis": {
            "gridcolor": "white",
            "linecolor": "white",
            "ticks": ""
           },
           "bgcolor": "#E5ECF6",
           "caxis": {
            "gridcolor": "white",
            "linecolor": "white",
            "ticks": ""
           }
          },
          "title": {
           "x": 0.05
          },
          "xaxis": {
           "automargin": true,
           "gridcolor": "white",
           "linecolor": "white",
           "ticks": "",
           "title": {
            "standoff": 15
           },
           "zerolinecolor": "white",
           "zerolinewidth": 2
          },
          "yaxis": {
           "automargin": true,
           "gridcolor": "white",
           "linecolor": "white",
           "ticks": "",
           "title": {
            "standoff": 15
           },
           "zerolinecolor": "white",
           "zerolinewidth": 2
          }
         }
        },
        "title": {
         "text": "Original vs Reconstructed Robusta Spectra"
        },
        "xaxis": {
         "anchor": "y",
         "domain": [
          0,
          1
         ],
         "title": {
          "text": "Wavelength"
         }
        },
        "yaxis": {
         "anchor": "x",
         "domain": [
          0,
          1
         ],
         "title": {
          "text": "Signal"
         }
        }
       }
      }
     },
     "metadata": {},
     "output_type": "display_data"
    }
   ],
   "source": [
    "# plotting robusta spectra\n",
    "robusta_df = pd.DataFrame()\n",
    "robusta_df['Wavelength'] = list(data_df.iloc[0,:]) * 2\n",
    "robusta_df['Signal'] = list(data_df.iloc[56,:]) + list(robusta_row)\n",
    "robusta_df['Signal Type'] = ['Original'] * 286 + ['Reconstructed'] * 286\n",
    "fig5 = px.line(\n",
    "    robusta_df,\n",
    "    x = 'Wavelength',\n",
    "    y = 'Signal',\n",
    "    color = 'Signal Type',\n",
    "    title = 'Original vs Reconstructed Robusta Spectra'\n",
    ")\n",
    "fig5.show()"
   ]
  }
 ],
 "metadata": {
  "kernelspec": {
   "display_name": "engsci712",
   "language": "python",
   "name": "python3"
  },
  "language_info": {
   "codemirror_mode": {
    "name": "ipython",
    "version": 3
   },
   "file_extension": ".py",
   "mimetype": "text/x-python",
   "name": "python",
   "nbconvert_exporter": "python",
   "pygments_lexer": "ipython3",
   "version": "3.9.13"
  }
 },
 "nbformat": 4,
 "nbformat_minor": 2
}
